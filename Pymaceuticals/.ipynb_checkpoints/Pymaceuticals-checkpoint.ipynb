{
 "cells": [
  {
   "cell_type": "markdown",
   "metadata": {},
   "source": [
    "# Analysis\n",
    "\n",
    "-Capomulin is the drug which has maximum positive impact on tumor volume \n",
    "\n",
    "-Metastatic spread under the effect of the Capomulin is least of all the four drugs\n",
    "\n",
    "-Infubinol has minimum survival rate where as Capomulin has maximun survival rate of all the four drugs\n",
    "\n",
    "-Capomulin have most decrease rate of volume of the tumor.\n",
    "\n"
   ]
  },
  {
   "cell_type": "code",
   "execution_count": 88,
   "metadata": {
    "collapsed": true
   },
   "outputs": [],
   "source": [
    "import pandas as pd\n",
    "import numpy as np\n",
    "import matplotlib.pyplot as plt\n",
    "import seaborn as sns\n"
   ]
  },
  {
   "cell_type": "code",
   "execution_count": 89,
   "metadata": {
    "collapsed": true
   },
   "outputs": [],
   "source": [
    "#file import and merge two file\n",
    "data1=pd.DataFrame(pd.read_csv(\"raw_data/clinicaltrial_data.csv\"))\n",
    "data2=pd.DataFrame(pd.read_csv(\"raw_data/mouse_drug_data.csv\"))\n",
    "#Merge two files\n",
    "data=pd.merge(data1,data2, on=\"Mouse ID\")\n",
    "#Replace NA with Zero\n",
    "data=data.fillna(0)\n",
    "data.head()\n",
    "\n",
    "Capomulin_data=data.loc[data[\"Drug\"]==\"Capomulin\"]\n",
    "Infubinol_data=data.loc[data[\"Drug\"]==\"Infubinol\"]\n",
    "Ketapril_data=data.loc[data[\"Drug\"]==\"Ketapril\"]\n",
    "Placebo_data=data.loc[data[\"Drug\"]==\"Placebo\"]\n"
   ]
  },
  {
   "cell_type": "code",
   "execution_count": 90,
   "metadata": {},
   "outputs": [
    {
     "data": {
      "text/html": [
       "<div>\n",
       "<style>\n",
       "    .dataframe thead tr:only-child th {\n",
       "        text-align: right;\n",
       "    }\n",
       "\n",
       "    .dataframe thead th {\n",
       "        text-align: left;\n",
       "    }\n",
       "\n",
       "    .dataframe tbody tr th {\n",
       "        vertical-align: top;\n",
       "    }\n",
       "</style>\n",
       "<table border=\"1\" class=\"dataframe\">\n",
       "  <thead>\n",
       "    <tr style=\"text-align: right;\">\n",
       "      <th></th>\n",
       "      <th>Tumor Volume (mm3)</th>\n",
       "    </tr>\n",
       "    <tr>\n",
       "      <th>Timepoint</th>\n",
       "      <th></th>\n",
       "    </tr>\n",
       "  </thead>\n",
       "  <tbody>\n",
       "    <tr>\n",
       "      <th>0</th>\n",
       "      <td>45.000000</td>\n",
       "    </tr>\n",
       "    <tr>\n",
       "      <th>5</th>\n",
       "      <td>47.389175</td>\n",
       "    </tr>\n",
       "    <tr>\n",
       "      <th>10</th>\n",
       "      <td>49.582269</td>\n",
       "    </tr>\n",
       "    <tr>\n",
       "      <th>15</th>\n",
       "      <td>52.399974</td>\n",
       "    </tr>\n",
       "    <tr>\n",
       "      <th>20</th>\n",
       "      <td>54.920935</td>\n",
       "    </tr>\n",
       "    <tr>\n",
       "      <th>25</th>\n",
       "      <td>57.678982</td>\n",
       "    </tr>\n",
       "    <tr>\n",
       "      <th>30</th>\n",
       "      <td>60.994507</td>\n",
       "    </tr>\n",
       "    <tr>\n",
       "      <th>35</th>\n",
       "      <td>63.371686</td>\n",
       "    </tr>\n",
       "    <tr>\n",
       "      <th>40</th>\n",
       "      <td>66.068580</td>\n",
       "    </tr>\n",
       "    <tr>\n",
       "      <th>45</th>\n",
       "      <td>70.662958</td>\n",
       "    </tr>\n",
       "  </tbody>\n",
       "</table>\n",
       "</div>"
      ],
      "text/plain": [
       "           Tumor Volume (mm3)\n",
       "Timepoint                    \n",
       "0                   45.000000\n",
       "5                   47.389175\n",
       "10                  49.582269\n",
       "15                  52.399974\n",
       "20                  54.920935\n",
       "25                  57.678982\n",
       "30                  60.994507\n",
       "35                  63.371686\n",
       "40                  66.068580\n",
       "45                  70.662958"
      ]
     },
     "execution_count": 90,
     "metadata": {},
     "output_type": "execute_result"
    }
   ],
   "source": [
    "pd.DataFrame(Ketapril_data.groupby([\"Timepoint\"])[\"Tumor Volume (mm3)\"].mean())"
   ]
  },
  {
   "cell_type": "markdown",
   "metadata": {},
   "source": [
    "# Tumor Response to Treatment"
   ]
  },
  {
   "cell_type": "code",
   "execution_count": 91,
   "metadata": {},
   "outputs": [
    {
     "data": {
      "text/html": [
       "<div>\n",
       "<style>\n",
       "    .dataframe thead tr:only-child th {\n",
       "        text-align: right;\n",
       "    }\n",
       "\n",
       "    .dataframe thead th {\n",
       "        text-align: left;\n",
       "    }\n",
       "\n",
       "    .dataframe tbody tr th {\n",
       "        vertical-align: top;\n",
       "    }\n",
       "</style>\n",
       "<table border=\"1\" class=\"dataframe\">\n",
       "  <thead>\n",
       "    <tr style=\"text-align: right;\">\n",
       "      <th></th>\n",
       "      <th></th>\n",
       "      <th>Tumor Volume (mm3)</th>\n",
       "    </tr>\n",
       "    <tr>\n",
       "      <th>Drug</th>\n",
       "      <th>Timepoint</th>\n",
       "      <th></th>\n",
       "    </tr>\n",
       "  </thead>\n",
       "  <tbody>\n",
       "    <tr>\n",
       "      <th rowspan=\"5\" valign=\"top\">Capomulin</th>\n",
       "      <th>0</th>\n",
       "      <td>45.000000</td>\n",
       "    </tr>\n",
       "    <tr>\n",
       "      <th>5</th>\n",
       "      <td>44.266086</td>\n",
       "    </tr>\n",
       "    <tr>\n",
       "      <th>10</th>\n",
       "      <td>43.084291</td>\n",
       "    </tr>\n",
       "    <tr>\n",
       "      <th>15</th>\n",
       "      <td>42.064317</td>\n",
       "    </tr>\n",
       "    <tr>\n",
       "      <th>20</th>\n",
       "      <td>40.716325</td>\n",
       "    </tr>\n",
       "  </tbody>\n",
       "</table>\n",
       "</div>"
      ],
      "text/plain": [
       "                     Tumor Volume (mm3)\n",
       "Drug      Timepoint                    \n",
       "Capomulin 0                   45.000000\n",
       "          5                   44.266086\n",
       "          10                  43.084291\n",
       "          15                  42.064317\n",
       "          20                  40.716325"
      ]
     },
     "execution_count": 91,
     "metadata": {},
     "output_type": "execute_result"
    }
   ],
   "source": [
    "# mean value \n",
    "tumor_response=pd.DataFrame(data.groupby([\"Drug\",\"Timepoint\"])[\"Tumor Volume (mm3)\"].mean())\n",
    "tumor_response.head()"
   ]
  },
  {
   "cell_type": "code",
   "execution_count": 92,
   "metadata": {},
   "outputs": [
    {
     "data": {
      "text/html": [
       "<div>\n",
       "<style>\n",
       "    .dataframe thead tr:only-child th {\n",
       "        text-align: right;\n",
       "    }\n",
       "\n",
       "    .dataframe thead th {\n",
       "        text-align: left;\n",
       "    }\n",
       "\n",
       "    .dataframe tbody tr th {\n",
       "        vertical-align: top;\n",
       "    }\n",
       "</style>\n",
       "<table border=\"1\" class=\"dataframe\">\n",
       "  <thead>\n",
       "    <tr style=\"text-align: right;\">\n",
       "      <th>Drug</th>\n",
       "      <th>Capomulin</th>\n",
       "      <th>Ceftamin</th>\n",
       "      <th>Infubinol</th>\n",
       "      <th>Ketapril</th>\n",
       "      <th>Naftisol</th>\n",
       "      <th>Placebo</th>\n",
       "      <th>Propriva</th>\n",
       "      <th>Ramicane</th>\n",
       "      <th>Stelasyn</th>\n",
       "      <th>Zoniferol</th>\n",
       "    </tr>\n",
       "    <tr>\n",
       "      <th>Timepoint</th>\n",
       "      <th></th>\n",
       "      <th></th>\n",
       "      <th></th>\n",
       "      <th></th>\n",
       "      <th></th>\n",
       "      <th></th>\n",
       "      <th></th>\n",
       "      <th></th>\n",
       "      <th></th>\n",
       "      <th></th>\n",
       "    </tr>\n",
       "  </thead>\n",
       "  <tbody>\n",
       "    <tr>\n",
       "      <th>0</th>\n",
       "      <td>45.000000</td>\n",
       "      <td>45.000000</td>\n",
       "      <td>45.000000</td>\n",
       "      <td>45.000000</td>\n",
       "      <td>45.000000</td>\n",
       "      <td>45.000000</td>\n",
       "      <td>45.000000</td>\n",
       "      <td>45.000000</td>\n",
       "      <td>45.000000</td>\n",
       "      <td>45.000000</td>\n",
       "    </tr>\n",
       "    <tr>\n",
       "      <th>5</th>\n",
       "      <td>44.266086</td>\n",
       "      <td>46.503051</td>\n",
       "      <td>47.062001</td>\n",
       "      <td>47.389175</td>\n",
       "      <td>46.796098</td>\n",
       "      <td>47.125589</td>\n",
       "      <td>47.248967</td>\n",
       "      <td>43.944859</td>\n",
       "      <td>47.527452</td>\n",
       "      <td>46.851818</td>\n",
       "    </tr>\n",
       "    <tr>\n",
       "      <th>10</th>\n",
       "      <td>43.084291</td>\n",
       "      <td>48.285125</td>\n",
       "      <td>49.403909</td>\n",
       "      <td>49.582269</td>\n",
       "      <td>48.694210</td>\n",
       "      <td>49.423329</td>\n",
       "      <td>49.101541</td>\n",
       "      <td>42.531957</td>\n",
       "      <td>49.463844</td>\n",
       "      <td>48.689881</td>\n",
       "    </tr>\n",
       "    <tr>\n",
       "      <th>15</th>\n",
       "      <td>42.064317</td>\n",
       "      <td>50.094055</td>\n",
       "      <td>51.296397</td>\n",
       "      <td>52.399974</td>\n",
       "      <td>50.933018</td>\n",
       "      <td>51.359742</td>\n",
       "      <td>51.067318</td>\n",
       "      <td>41.495061</td>\n",
       "      <td>51.529409</td>\n",
       "      <td>50.779059</td>\n",
       "    </tr>\n",
       "    <tr>\n",
       "      <th>20</th>\n",
       "      <td>40.716325</td>\n",
       "      <td>52.157049</td>\n",
       "      <td>53.197691</td>\n",
       "      <td>54.920935</td>\n",
       "      <td>53.644087</td>\n",
       "      <td>54.364417</td>\n",
       "      <td>53.346737</td>\n",
       "      <td>40.238325</td>\n",
       "      <td>54.067395</td>\n",
       "      <td>53.170334</td>\n",
       "    </tr>\n",
       "    <tr>\n",
       "      <th>25</th>\n",
       "      <td>39.939528</td>\n",
       "      <td>54.287674</td>\n",
       "      <td>55.715252</td>\n",
       "      <td>57.678982</td>\n",
       "      <td>56.731968</td>\n",
       "      <td>57.482574</td>\n",
       "      <td>55.504138</td>\n",
       "      <td>38.974300</td>\n",
       "      <td>56.166123</td>\n",
       "      <td>55.432935</td>\n",
       "    </tr>\n",
       "    <tr>\n",
       "      <th>30</th>\n",
       "      <td>38.769339</td>\n",
       "      <td>56.769517</td>\n",
       "      <td>58.299397</td>\n",
       "      <td>60.994507</td>\n",
       "      <td>59.559509</td>\n",
       "      <td>59.809063</td>\n",
       "      <td>58.196374</td>\n",
       "      <td>38.703137</td>\n",
       "      <td>59.826738</td>\n",
       "      <td>57.713531</td>\n",
       "    </tr>\n",
       "    <tr>\n",
       "      <th>35</th>\n",
       "      <td>37.816839</td>\n",
       "      <td>58.827548</td>\n",
       "      <td>60.742461</td>\n",
       "      <td>63.371686</td>\n",
       "      <td>62.685087</td>\n",
       "      <td>62.420615</td>\n",
       "      <td>60.350199</td>\n",
       "      <td>37.451996</td>\n",
       "      <td>62.440699</td>\n",
       "      <td>60.089372</td>\n",
       "    </tr>\n",
       "    <tr>\n",
       "      <th>40</th>\n",
       "      <td>36.958001</td>\n",
       "      <td>61.467895</td>\n",
       "      <td>63.162824</td>\n",
       "      <td>66.068580</td>\n",
       "      <td>65.600754</td>\n",
       "      <td>65.052675</td>\n",
       "      <td>63.045537</td>\n",
       "      <td>36.574081</td>\n",
       "      <td>65.356386</td>\n",
       "      <td>62.916692</td>\n",
       "    </tr>\n",
       "    <tr>\n",
       "      <th>45</th>\n",
       "      <td>36.236114</td>\n",
       "      <td>64.132421</td>\n",
       "      <td>65.755562</td>\n",
       "      <td>70.662958</td>\n",
       "      <td>69.265506</td>\n",
       "      <td>68.084082</td>\n",
       "      <td>66.258529</td>\n",
       "      <td>34.955595</td>\n",
       "      <td>68.438310</td>\n",
       "      <td>65.960888</td>\n",
       "    </tr>\n",
       "  </tbody>\n",
       "</table>\n",
       "</div>"
      ],
      "text/plain": [
       "Drug       Capomulin   Ceftamin  Infubinol   Ketapril   Naftisol    Placebo  \\\n",
       "Timepoint                                                                     \n",
       "0          45.000000  45.000000  45.000000  45.000000  45.000000  45.000000   \n",
       "5          44.266086  46.503051  47.062001  47.389175  46.796098  47.125589   \n",
       "10         43.084291  48.285125  49.403909  49.582269  48.694210  49.423329   \n",
       "15         42.064317  50.094055  51.296397  52.399974  50.933018  51.359742   \n",
       "20         40.716325  52.157049  53.197691  54.920935  53.644087  54.364417   \n",
       "25         39.939528  54.287674  55.715252  57.678982  56.731968  57.482574   \n",
       "30         38.769339  56.769517  58.299397  60.994507  59.559509  59.809063   \n",
       "35         37.816839  58.827548  60.742461  63.371686  62.685087  62.420615   \n",
       "40         36.958001  61.467895  63.162824  66.068580  65.600754  65.052675   \n",
       "45         36.236114  64.132421  65.755562  70.662958  69.265506  68.084082   \n",
       "\n",
       "Drug        Propriva   Ramicane   Stelasyn  Zoniferol  \n",
       "Timepoint                                              \n",
       "0          45.000000  45.000000  45.000000  45.000000  \n",
       "5          47.248967  43.944859  47.527452  46.851818  \n",
       "10         49.101541  42.531957  49.463844  48.689881  \n",
       "15         51.067318  41.495061  51.529409  50.779059  \n",
       "20         53.346737  40.238325  54.067395  53.170334  \n",
       "25         55.504138  38.974300  56.166123  55.432935  \n",
       "30         58.196374  38.703137  59.826738  57.713531  \n",
       "35         60.350199  37.451996  62.440699  60.089372  \n",
       "40         63.045537  36.574081  65.356386  62.916692  \n",
       "45         66.258529  34.955595  68.438310  65.960888  "
      ]
     },
     "execution_count": 92,
     "metadata": {},
     "output_type": "execute_result"
    }
   ],
   "source": [
    "#Pivot table \n",
    "treatment_response_pivot=pd.pivot_table(data,index=\"Timepoint\",columns=\"Drug\",values=\"Tumor Volume (mm3)\",aggfunc='mean')\n",
    "treatment_response_pivot"
   ]
  },
  {
   "cell_type": "code",
   "execution_count": 93,
   "metadata": {
    "collapsed": true
   },
   "outputs": [],
   "source": [
    "\n",
    "#get data for only four drugs : (Capomulin, Infubinol, Ketapril, and Placebo) \n",
    "\n",
    "tumor_response_Capomulin=pd.DataFrame(Capomulin_data.groupby([\"Timepoint\"])[\"Tumor Volume (mm3)\"].mean())\n",
    "\n",
    "tumor_response_Infubinol=pd.DataFrame(Infubinol_data.groupby([\"Timepoint\"])[\"Tumor Volume (mm3)\"].mean())\n",
    "\n",
    "tumor_response_Ketapril=pd.DataFrame(Ketapril_data.groupby([\"Timepoint\"])[\"Tumor Volume (mm3)\"].mean())\n",
    "\n",
    "tumor_response_Placebo=pd.DataFrame(Placebo_data.groupby([\"Timepoint\"])[\"Tumor Volume (mm3)\"].mean())\n",
    "\n",
    "# X-axis for each group of medicine\n",
    "\n",
    "Capomulin_x=tumor_response_Capomulin.index\n",
    "Infubinol_x=tumor_response_Infubinol.index\n",
    "Ketapril_x=tumor_response_Ketapril.index\n",
    "Placebo_x=tumor_response_Placebo.index\n",
    "\n",
    "# Y-axis for each group of medicine\n",
    "tumor_response_Capomulin_y=tumor_response_Capomulin[\"Tumor Volume (mm3)\"]\n",
    "tumor_response_Infubinol_y=tumor_response_Infubinol[\"Tumor Volume (mm3)\"]\n",
    "tumor_response_Ketapril_y=tumor_response_Ketapril[\"Tumor Volume (mm3)\"]\n",
    "tumor_response_Placebo_y=tumor_response_Placebo[\"Tumor Volume (mm3)\"]\n",
    "\n"
   ]
  },
  {
   "cell_type": "code",
   "execution_count": 94,
   "metadata": {
    "collapsed": true
   },
   "outputs": [],
   "source": [
    "# error calcultation for each drug\n",
    "\n",
    "error_Capomulin_response = Capomulin_data.groupby([\"Timepoint\"])[\"Tumor Volume (mm3)\"].sem()\n",
    "error_Infubinol_response = Infubinol_data.groupby([\"Timepoint\"])[\"Tumor Volume (mm3)\"].sem()\n",
    "error_Ketapril_response = Ketapril_data.groupby([\"Timepoint\"])[\"Tumor Volume (mm3)\"].sem()\n",
    "error_Placebo_response = Placebo_data.groupby([\"Timepoint\"])[\"Tumor Volume (mm3)\"].sem()\n"
   ]
  },
  {
   "cell_type": "code",
   "execution_count": 95,
   "metadata": {},
   "outputs": [
    {
     "data": {
      "text/plain": [
       "<Container object of 3 artists>"
      ]
     },
     "execution_count": 95,
     "metadata": {},
     "output_type": "execute_result"
    }
   ],
   "source": [
    "#plot the scatter plot for each medicine\n",
    "\n",
    "\n",
    "Capomulin=plt.scatter(Capomulin_x, tumor_response_Capomulin_y,LineStyle=\":\",\n",
    "                      marker=\"o\",facecolors=\"Orange\", edgecolors=\"black\",s=50, alpha=0.75,label=\"Capomulin\")\n",
    "\n",
    "\n",
    "Infubinol=plt.scatter(Infubinol_x, tumor_response_Infubinol_y,LineStyle=\":\"\n",
    "                      ,marker=\"o\",facecolors=\"Blue\", edgecolors=\"black\",s=50, alpha=0.75,label=\"Infubinol\")\n",
    "\n",
    "Ketapril=plt.scatter(Ketapril_x, tumor_response_Ketapril_y, LineStyle=\":\",\n",
    "                marker=\"o\",facecolors=\"Green\", edgecolors=\"black\",s=50, alpha=0.75,label=\"Ketapril\")\n",
    "\n",
    "Placebo=plt.scatter(Placebo_x, tumor_response_Placebo_y ,LineStyle=\":\"\n",
    "                   , marker=\"o\",facecolors=\"Yellow\", edgecolors=\"black\",s=50, alpha=0.75,label=\"Placebo\")\n",
    "\n",
    "#error plot\n",
    "plt.errorbar(Capomulin_x,tumor_response_Capomulin_y,yerr=error_Capomulin_response)\n",
    "plt.errorbar(Infubinol_x,tumor_response_Infubinol_y,yerr=error_Infubinol_response)\n",
    "plt.errorbar(Ketapril_x,tumor_response_Ketapril_y,yerr=error_Ketapril_response)\n",
    "plt.errorbar(Placebo_x,tumor_response_Placebo_y,yerr=error_Placebo_response)\n",
    "\n"
   ]
  },
  {
   "cell_type": "code",
   "execution_count": 96,
   "metadata": {},
   "outputs": [
    {
     "data": {
      "image/png": "[encoded data removed]",
      "text/plain": [
       "<matplotlib.figure.Figure at 0x1169135c0>"
      ]
     },
     "metadata": {},
     "output_type": "display_data"
    }
   ],
   "source": [
    "#adding the text to axis and overall title\n",
    "plt.title('Tumor Response to Treatment', fontsize=15)\n",
    "plt.xlabel('Time (Days)', fontsize=9)\n",
    "plt.ylabel('Tumor Volume (mm3)', fontsize=9)\n",
    "plt.legend(handles=[Capomulin,Infubinol,Ketapril,Placebo], loc=\"best\")\n",
    "\n",
    "#show the plot\n",
    "plt.show()"
   ]
  },
  {
   "cell_type": "markdown",
   "metadata": {},
   "source": [
    "# Metastatic Response to Treatment"
   ]
  },
  {
   "cell_type": "code",
   "execution_count": 97,
   "metadata": {
    "collapsed": true
   },
   "outputs": [],
   "source": [
    "#get data for only four drugs : (Capomulin, Infubinol, Ketapril, and Placebo) \n",
    "\n",
    "tumor_sites_Capomulin=pd.DataFrame(Capomulin_data.groupby([\"Timepoint\"])[\"Metastatic Sites\"].mean())\n",
    "\n",
    "tumor_sites_Infubinol=pd.DataFrame(Infubinol_data.groupby([\"Timepoint\"])[\"Metastatic Sites\"].mean())\n",
    "\n",
    "tumor_sites_Ketapril=pd.DataFrame(Ketapril_data.groupby([\"Timepoint\"])[\"Metastatic Sites\"].mean())\n",
    "\n",
    "tumor_sites_Placebo=pd.DataFrame(Placebo_data.groupby([\"Timepoint\"])[\"Metastatic Sites\"].mean())\n",
    "\n",
    "# Y-axis for each group of medicine\n",
    "tumor_sites_Capomulin_y=tumor_sites_Capomulin[\"Metastatic Sites\"]\n",
    "tumor_sites_Infubinol_y=tumor_sites_Infubinol[\"Metastatic Sites\"]\n",
    "tumor_sites_Ketapril_y=tumor_sites_Ketapril[\"Metastatic Sites\"]\n",
    "tumor_sites_Placebo_y=tumor_sites_Placebo[\"Metastatic Sites\"]\n"
   ]
  },
  {
   "cell_type": "code",
   "execution_count": 98,
   "metadata": {
    "collapsed": true
   },
   "outputs": [],
   "source": [
    "# error calcultation for each drug\n",
    "\n",
    "error_Capomulin_sites = Capomulin_data.groupby([\"Timepoint\"])[\"Metastatic Sites\"].sem()\n",
    "error_Infubinol_sites = Infubinol_data.groupby([\"Timepoint\"])[\"Metastatic Sites\"].sem()\n",
    "error_Ketapril_sites = Ketapril_data.groupby([\"Timepoint\"])[\"Metastatic Sites\"].sem()\n",
    "error_Placebo_sites = Placebo_data.groupby([\"Timepoint\"])[\"Metastatic Sites\"].sem()"
   ]
  },
  {
   "cell_type": "code",
   "execution_count": 99,
   "metadata": {},
   "outputs": [
    {
     "data": {
      "text/html": [
       "<div>\n",
       "<style>\n",
       "    .dataframe thead tr:only-child th {\n",
       "        text-align: right;\n",
       "    }\n",
       "\n",
       "    .dataframe thead th {\n",
       "        text-align: left;\n",
       "    }\n",
       "\n",
       "    .dataframe tbody tr th {\n",
       "        vertical-align: top;\n",
       "    }\n",
       "</style>\n",
       "<table border=\"1\" class=\"dataframe\">\n",
       "  <thead>\n",
       "    <tr style=\"text-align: right;\">\n",
       "      <th>Drug</th>\n",
       "      <th>Capomulin</th>\n",
       "      <th>Ceftamin</th>\n",
       "      <th>Infubinol</th>\n",
       "      <th>Ketapril</th>\n",
       "      <th>Naftisol</th>\n",
       "      <th>Placebo</th>\n",
       "      <th>Propriva</th>\n",
       "      <th>Ramicane</th>\n",
       "      <th>Stelasyn</th>\n",
       "      <th>Zoniferol</th>\n",
       "    </tr>\n",
       "    <tr>\n",
       "      <th>Timepoint</th>\n",
       "      <th></th>\n",
       "      <th></th>\n",
       "      <th></th>\n",
       "      <th></th>\n",
       "      <th></th>\n",
       "      <th></th>\n",
       "      <th></th>\n",
       "      <th></th>\n",
       "      <th></th>\n",
       "      <th></th>\n",
       "    </tr>\n",
       "  </thead>\n",
       "  <tbody>\n",
       "    <tr>\n",
       "      <th>0</th>\n",
       "      <td>0.000000</td>\n",
       "      <td>0.000000</td>\n",
       "      <td>0.000000</td>\n",
       "      <td>0.000000</td>\n",
       "      <td>0.000000</td>\n",
       "      <td>0.000000</td>\n",
       "      <td>0.000000</td>\n",
       "      <td>0.000000</td>\n",
       "      <td>0.000000</td>\n",
       "      <td>0.000000</td>\n",
       "    </tr>\n",
       "    <tr>\n",
       "      <th>5</th>\n",
       "      <td>0.160000</td>\n",
       "      <td>0.380952</td>\n",
       "      <td>0.280000</td>\n",
       "      <td>0.304348</td>\n",
       "      <td>0.260870</td>\n",
       "      <td>0.375000</td>\n",
       "      <td>0.320000</td>\n",
       "      <td>0.120000</td>\n",
       "      <td>0.240000</td>\n",
       "      <td>0.166667</td>\n",
       "    </tr>\n",
       "    <tr>\n",
       "      <th>10</th>\n",
       "      <td>0.320000</td>\n",
       "      <td>0.600000</td>\n",
       "      <td>0.666667</td>\n",
       "      <td>0.590909</td>\n",
       "      <td>0.523810</td>\n",
       "      <td>0.833333</td>\n",
       "      <td>0.565217</td>\n",
       "      <td>0.250000</td>\n",
       "      <td>0.478261</td>\n",
       "      <td>0.500000</td>\n",
       "    </tr>\n",
       "    <tr>\n",
       "      <th>15</th>\n",
       "      <td>0.375000</td>\n",
       "      <td>0.789474</td>\n",
       "      <td>0.904762</td>\n",
       "      <td>0.842105</td>\n",
       "      <td>0.857143</td>\n",
       "      <td>1.250000</td>\n",
       "      <td>0.764706</td>\n",
       "      <td>0.333333</td>\n",
       "      <td>0.782609</td>\n",
       "      <td>0.809524</td>\n",
       "    </tr>\n",
       "    <tr>\n",
       "      <th>20</th>\n",
       "      <td>0.652174</td>\n",
       "      <td>1.111111</td>\n",
       "      <td>1.050000</td>\n",
       "      <td>1.210526</td>\n",
       "      <td>1.150000</td>\n",
       "      <td>1.526316</td>\n",
       "      <td>1.000000</td>\n",
       "      <td>0.347826</td>\n",
       "      <td>0.952381</td>\n",
       "      <td>1.294118</td>\n",
       "    </tr>\n",
       "    <tr>\n",
       "      <th>25</th>\n",
       "      <td>0.818182</td>\n",
       "      <td>1.500000</td>\n",
       "      <td>1.277778</td>\n",
       "      <td>1.631579</td>\n",
       "      <td>1.500000</td>\n",
       "      <td>1.941176</td>\n",
       "      <td>1.357143</td>\n",
       "      <td>0.652174</td>\n",
       "      <td>1.157895</td>\n",
       "      <td>1.687500</td>\n",
       "    </tr>\n",
       "    <tr>\n",
       "      <th>30</th>\n",
       "      <td>1.090909</td>\n",
       "      <td>1.937500</td>\n",
       "      <td>1.588235</td>\n",
       "      <td>2.055556</td>\n",
       "      <td>2.066667</td>\n",
       "      <td>2.266667</td>\n",
       "      <td>1.615385</td>\n",
       "      <td>0.782609</td>\n",
       "      <td>1.388889</td>\n",
       "      <td>1.933333</td>\n",
       "    </tr>\n",
       "    <tr>\n",
       "      <th>35</th>\n",
       "      <td>1.181818</td>\n",
       "      <td>2.071429</td>\n",
       "      <td>1.666667</td>\n",
       "      <td>2.294118</td>\n",
       "      <td>2.266667</td>\n",
       "      <td>2.642857</td>\n",
       "      <td>2.300000</td>\n",
       "      <td>0.952381</td>\n",
       "      <td>1.562500</td>\n",
       "      <td>2.285714</td>\n",
       "    </tr>\n",
       "    <tr>\n",
       "      <th>40</th>\n",
       "      <td>1.380952</td>\n",
       "      <td>2.357143</td>\n",
       "      <td>2.100000</td>\n",
       "      <td>2.733333</td>\n",
       "      <td>2.466667</td>\n",
       "      <td>3.166667</td>\n",
       "      <td>2.777778</td>\n",
       "      <td>1.100000</td>\n",
       "      <td>1.583333</td>\n",
       "      <td>2.785714</td>\n",
       "    </tr>\n",
       "    <tr>\n",
       "      <th>45</th>\n",
       "      <td>1.476190</td>\n",
       "      <td>2.692308</td>\n",
       "      <td>2.111111</td>\n",
       "      <td>3.363636</td>\n",
       "      <td>2.538462</td>\n",
       "      <td>3.272727</td>\n",
       "      <td>2.571429</td>\n",
       "      <td>1.250000</td>\n",
       "      <td>1.727273</td>\n",
       "      <td>3.071429</td>\n",
       "    </tr>\n",
       "  </tbody>\n",
       "</table>\n",
       "</div>"
      ],
      "text/plain": [
       "Drug       Capomulin  Ceftamin  Infubinol  Ketapril  Naftisol   Placebo  \\\n",
       "Timepoint                                                                 \n",
       "0           0.000000  0.000000   0.000000  0.000000  0.000000  0.000000   \n",
       "5           0.160000  0.380952   0.280000  0.304348  0.260870  0.375000   \n",
       "10          0.320000  0.600000   0.666667  0.590909  0.523810  0.833333   \n",
       "15          0.375000  0.789474   0.904762  0.842105  0.857143  1.250000   \n",
       "20          0.652174  1.111111   1.050000  1.210526  1.150000  1.526316   \n",
       "25          0.818182  1.500000   1.277778  1.631579  1.500000  1.941176   \n",
       "30          1.090909  1.937500   1.588235  2.055556  2.066667  2.266667   \n",
       "35          1.181818  2.071429   1.666667  2.294118  2.266667  2.642857   \n",
       "40          1.380952  2.357143   2.100000  2.733333  2.466667  3.166667   \n",
       "45          1.476190  2.692308   2.111111  3.363636  2.538462  3.272727   \n",
       "\n",
       "Drug       Propriva  Ramicane  Stelasyn  Zoniferol  \n",
       "Timepoint                                           \n",
       "0          0.000000  0.000000  0.000000   0.000000  \n",
       "5          0.320000  0.120000  0.240000   0.166667  \n",
       "10         0.565217  0.250000  0.478261   0.500000  \n",
       "15         0.764706  0.333333  0.782609   0.809524  \n",
       "20         1.000000  0.347826  0.952381   1.294118  \n",
       "25         1.357143  0.652174  1.157895   1.687500  \n",
       "30         1.615385  0.782609  1.388889   1.933333  \n",
       "35         2.300000  0.952381  1.562500   2.285714  \n",
       "40         2.777778  1.100000  1.583333   2.785714  \n",
       "45         2.571429  1.250000  1.727273   3.071429  "
      ]
     },
     "execution_count": 99,
     "metadata": {},
     "output_type": "execute_result"
    }
   ],
   "source": [
    "#Pivot table \n",
    "treatment_site=pd.pivot_table(data,index=\"Timepoint\",columns=\"Drug\",values=\"Metastatic Sites\",aggfunc='mean')\n",
    "treatment_site"
   ]
  },
  {
   "cell_type": "code",
   "execution_count": 100,
   "metadata": {},
   "outputs": [
    {
     "data": {
      "text/plain": [
       "<Container object of 3 artists>"
      ]
     },
     "execution_count": 100,
     "metadata": {},
     "output_type": "execute_result"
    }
   ],
   "source": [
    "#plot the scatter plot for each medicine\n",
    "\n",
    "_Capomulin=plt.scatter(Capomulin_x, tumor_sites_Capomulin_y,\n",
    "                      marker=\"o\",facecolors=\"Orange\", edgecolors=\"black\",s=50, alpha=0.75,label=\"Capomulin\")\n",
    "\n",
    "_Infubinol=plt.scatter(Infubinol_x, tumor_sites_Infubinol_y\n",
    "                      ,marker=\"o\",facecolors=\"Blue\", edgecolors=\"black\",s=50, alpha=0.75,label=\"Infubinol\")\n",
    "\n",
    "_Ketapril=plt.scatter(Ketapril_x, tumor_sites_Ketapril_y, \n",
    "                    marker=\"o\",facecolors=\"Green\", edgecolors=\"black\",s=50, alpha=0.75,label=\"Ketapril\")\n",
    "\n",
    "_Placebo=plt.scatter(Placebo_x, tumor_sites_Placebo_y \n",
    "                 , marker=\"o\",facecolors=\"Red\", edgecolors=\"black\",s=50, alpha=0.75,label=\"Placebo\")\n",
    "\n",
    "\n",
    "#plot the error bar \n",
    "plt.errorbar(Capomulin_x,tumor_sites_Capomulin_y,yerr=error_Capomulin_sites,LineStyle=\":\")\n",
    "plt.errorbar(Infubinol_x,tumor_sites_Infubinol_y,yerr=error_Infubinol_sites,LineStyle=\":\")\n",
    "plt.errorbar(Ketapril_x,tumor_sites_Ketapril_y,yerr=error_Ketapril_sites,LineStyle=\":\")\n",
    "plt.errorbar(Placebo_x,tumor_sites_Placebo_y,yerr=error_Placebo_sites,LineStyle=\":\")\n"
   ]
  },
  {
   "cell_type": "code",
   "execution_count": 101,
   "metadata": {},
   "outputs": [
    {
     "data": {
      "image/png": "[encoded data removed]",
      "text/plain": [
       "<matplotlib.figure.Figure at 0x11663cb70>"
      ]
     },
     "metadata": {},
     "output_type": "display_data"
    }
   ],
   "source": [
    "#adding the text to axis and overall title\n",
    "plt.title('Metastatic Spread during Treatment', fontsize=15)\n",
    "plt.xlabel('Time (Days)', fontsize=9)\n",
    "plt.ylabel('Met Sites', fontsize=9)\n",
    "plt.legend(handles=[_Capomulin,_Infubinol,_Ketapril,_Placebo], loc=\"best\")\n",
    "\n",
    "#show the plot\n",
    "plt.show()"
   ]
  },
  {
   "cell_type": "markdown",
   "metadata": {},
   "source": [
    "# Survival Rates"
   ]
  },
  {
   "cell_type": "code",
   "execution_count": 102,
   "metadata": {
    "scrolled": true
   },
   "outputs": [],
   "source": [
    "#total number of mice \n",
    "\n",
    "Total_mice=data.groupby(\"Drug\")[\"Mouse ID\"].nunique()\n",
    "\n",
    "#Total number of mice by each drug\n",
    "\n",
    "Total_mice_Capomulin=pd.DataFrame(Capomulin_data.groupby([\"Timepoint\"])[\"Mouse ID\"].nunique())\n",
    "Total_mice_Infubinol=pd.DataFrame(Infubinol_data.groupby([\"Timepoint\"])[\"Mouse ID\"].nunique())\n",
    "Total_mice_Ketapril=pd.DataFrame(Ketapril_data.groupby([\"Timepoint\"])[\"Mouse ID\"].nunique())\n",
    "Total_mice_Placebo=pd.DataFrame(Placebo_data.groupby([\"Timepoint\"])[\"Mouse ID\"].nunique())"
   ]
  },
  {
   "cell_type": "code",
   "execution_count": 103,
   "metadata": {
    "collapsed": true
   },
   "outputs": [],
   "source": [
    "#Survival rate by each of four drug\n",
    "Survival_Capomulin=(Total_mice_Capomulin/Total_mice[\"Drug\"==\"Capomulin\"])*100\n",
    "Survival_Infubinol=(Total_mice_Infubinol/Total_mice[\"Drug\"==\"Infubinol\"])*100\n",
    "Survival_Ketapril=(Total_mice_Ketapril/Total_mice[\"Drug\"==\"Ketapril\"])*100\n",
    "Survival_Placebo=(Total_mice_Placebo/Total_mice[\"Drug\"==\"Placebo\"])*100"
   ]
  },
  {
   "cell_type": "code",
   "execution_count": 104,
   "metadata": {
    "collapsed": true
   },
   "outputs": [],
   "source": [
    "# Y-axis for each group of medicine\n",
    "\n",
    "Survival_Capomulin_y=Survival_Capomulin[\"Mouse ID\"]\n",
    "Survival_Infubinol_y=Survival_Infubinol[\"Mouse ID\"]\n",
    "Survival_Ketapril_y=Survival_Ketapril[\"Mouse ID\"]\n",
    "Survival_Placebo_y=Survival_Placebo[\"Mouse ID\"]\n"
   ]
  },
  {
   "cell_type": "code",
   "execution_count": 105,
   "metadata": {
    "collapsed": true
   },
   "outputs": [],
   "source": [
    "error_Capomulin_id = Total_mice_Capomulin[\"Mouse ID\"].sem()\n",
    "error_Infubinol_id = Total_mice_Infubinol[\"Mouse ID\"].sem()\n",
    "error_Ketapril_id = Total_mice_Ketapril[\"Mouse ID\"].sem()\n",
    "error_Placebo_id = Total_mice_Placebo[\"Mouse ID\"].sem()"
   ]
  },
  {
   "cell_type": "code",
   "execution_count": 106,
   "metadata": {},
   "outputs": [],
   "source": [
    "#plot the scatter plot for each medicine\n",
    "\n",
    "rate_Capomulin=plt.scatter(Capomulin_x, Survival_Capomulin_y, \n",
    "                      marker=\"o\",facecolors=\"Orange\", edgecolors=\"black\",s=50, alpha=0.75,label=\"Capomulin\")\n",
    "\n",
    "rate_Infubinol=plt.scatter(Infubinol_x, Survival_Infubinol_y\n",
    "                      ,marker=\"o\",facecolors=\"Blue\", edgecolors=\"black\",s=50, alpha=0.75,label=\"Infubinol\")\n",
    "\n",
    "rate_Ketapril=plt.scatter(Ketapril_x, Survival_Ketapril_y, \n",
    "                    marker=\"o\",facecolors=\"Green\", edgecolors=\"black\",s=50, alpha=0.75,label=\"Ketapril\")\n",
    "\n",
    "rate_Placebo=plt.scatter(Placebo_x, Survival_Placebo_y \n",
    "                 , marker=\"o\",facecolors=\"Yellow\", edgecolors=\"black\",s=50, alpha=0.75,label=\"Placebo\")"
   ]
  },
  {
   "cell_type": "code",
   "execution_count": 107,
   "metadata": {},
   "outputs": [
    {
     "data": {
      "image/png": "[encoded data removed]",
      "text/plain": [
       "<matplotlib.figure.Figure at 0x116b237b8>"
      ]
     },
     "metadata": {},
     "output_type": "display_data"
    }
   ],
   "source": [
    "#adding the text to axis and overall title\n",
    "plt.title('Survival during Treatment', fontsize=15)\n",
    "plt.xlabel('Time (Days)', fontsize=9)\n",
    "plt.ylabel('Survival rate(%)', fontsize=9)\n",
    "plt.legend(handles=[_Capomulin,_Infubinol,_Ketapril,_Placebo], loc=\"best\")\n",
    "\n",
    "#show the plot\n",
    "plt.show()"
   ]
  },
  {
   "cell_type": "markdown",
   "metadata": {},
   "source": [
    "# Bar Graph"
   ]
  },
  {
   "cell_type": "code",
   "execution_count": 108,
   "metadata": {
    "collapsed": true
   },
   "outputs": [],
   "source": [
    "# percent volume change vy four drugs\n",
    "\n",
    "volume_Capomulin=pd.DataFrame(Capomulin_data.groupby([\"Timepoint\"])[\"Tumor Volume (mm3)\"].mean())\n",
    "percent_Capomuli=((volume_Capomulin.iloc[-1,:]-volume_Capomulin.iloc[0,:])/volume_Capomulin.iloc[0,:])*100\n",
    "\n",
    "volume_Infubinol=pd.DataFrame(Infubinol_data.groupby([\"Timepoint\"])[\"Tumor Volume (mm3)\"].mean())\n",
    "percent_Infubinol=((volume_Infubinol.iloc[-1,:]-volume_Infubinol.iloc[0,:])/volume_Infubinol.iloc[0,:])*100\n",
    "\n",
    "volume_Ketapril=pd.DataFrame(Ketapril_data.groupby([\"Timepoint\"])[\"Tumor Volume (mm3)\"].mean())\n",
    "percent_Ketapril=((volume_Ketapril.iloc[-1,:]-volume_Ketapril.iloc[0,:])/volume_Ketapril.iloc[0,:])*100\n",
    "\n",
    "volume_Placebo=pd.DataFrame(Placebo_data.groupby([\"Timepoint\"])[\"Tumor Volume (mm3)\"].mean())\n",
    "percent_Placebo=((volume_Placebo.iloc[-1,:]-volume_Placebo.iloc[0,:])/volume_Placebo.iloc[0,:])*100\n"
   ]
  },
  {
   "cell_type": "code",
   "execution_count": 109,
   "metadata": {},
   "outputs": [
    {
     "data": {
      "text/plain": [
       "array([-19.47530267])"
      ]
     },
     "execution_count": 109,
     "metadata": {},
     "output_type": "execute_result"
    }
   ],
   "source": [
    "# y-Axis calculation\n",
    "\n",
    "volume_change=[percent_Capomuli,percent_Infubinol,percent_Ketapril,percent_Placebo]\n",
    "volume_change[0].values"
   ]
  },
  {
   "cell_type": "code",
   "execution_count": 110,
   "metadata": {
    "collapsed": true
   },
   "outputs": [],
   "source": [
    "#Label of x-axis \n",
    "\n",
    "label=[\"Capomulin\",\"Infubinol\",\"Ketapril\",\"Placebo\"]\n",
    "\n",
    "# X-axis calculation\n",
    "\n",
    "x_axis = np.arange(len(label))"
   ]
  },
  {
   "cell_type": "code",
   "execution_count": 111,
   "metadata": {},
   "outputs": [
    {
     "data": {
      "text/plain": [
       "<matplotlib.axes._subplots.AxesSubplot at 0x116c71c18>"
      ]
     },
     "execution_count": 111,
     "metadata": {},
     "output_type": "execute_result"
    }
   ],
   "source": [
    "# plot the bar graph with Seaborn library\n",
    "\n",
    "\n",
    "# Sets the x limits of the current chart\n",
    "\n",
    "plt.xlim(0, len(x_axis))\n",
    "\n",
    "#color palatte based on value of y\n",
    "\n",
    "lenth=len(volume_change)\n",
    "\n",
    "color=[\"green\" if (volume_change[i].values>0) else \"red\" for i in range(lenth)]\n",
    "\n",
    "#plot the Bar graph\n",
    "\n",
    "sns.barplot(x_axis,volume_change,palette=color)\n",
    "\n"
   ]
  },
  {
   "cell_type": "code",
   "execution_count": 112,
   "metadata": {},
   "outputs": [
    {
     "data": {
      "text/plain": [
       "([<matplotlib.axis.XTick at 0x116b48c88>,\n",
       "  <matplotlib.axis.XTick at 0x116cc7f60>,\n",
       "  <matplotlib.axis.XTick at 0x116b425f8>,\n",
       "  <matplotlib.axis.XTick at 0x116de5048>],\n",
       " <a list of 4 Text xticklabel objects>)"
      ]
     },
     "execution_count": 112,
     "metadata": {},
     "output_type": "execute_result"
    }
   ],
   "source": [
    "# Tell matplotlib where we would like to place each of our x axis headers\n",
    "\n",
    "tick_locations = [value-0.1 for value in x_axis]\n",
    "plt.xticks(tick_locations,label)"
   ]
  },
  {
   "cell_type": "code",
   "execution_count": 113,
   "metadata": {},
   "outputs": [
    {
     "ename": "RuntimeError",
     "evalue": "xdata and ydata must be the same length",
     "output_type": "error",
     "traceback": [
      "\u001b[0;31m---------------------------------------------------------------------------\u001b[0m",
      "\u001b[0;31mRuntimeError\u001b[0m                              Traceback (most recent call last)",
      "\u001b[0;32m<ipython-input-113-3071b80039bd>\u001b[0m in \u001b[0;36m<module>\u001b[0;34m()\u001b[0m\n\u001b[0;32m----> 1\u001b[0;31m \u001b[0mplt\u001b[0m\u001b[0;34m.\u001b[0m\u001b[0merrorbar\u001b[0m\u001b[0;34m(\u001b[0m\u001b[0mx_axis\u001b[0m\u001b[0;34m,\u001b[0m\u001b[0mSurvival_Capomulin_y\u001b[0m\u001b[0;34m,\u001b[0m\u001b[0myerr\u001b[0m\u001b[0;34m=\u001b[0m\u001b[0merror_Capomulin_id\u001b[0m\u001b[0;34m,\u001b[0m\u001b[0mLineStyle\u001b[0m\u001b[0;34m=\u001b[0m\u001b[0;34m\":\"\u001b[0m\u001b[0;34m)\u001b[0m\u001b[0;34m\u001b[0m\u001b[0m\n\u001b[0m\u001b[1;32m      2\u001b[0m \u001b[0mplt\u001b[0m\u001b[0;34m.\u001b[0m\u001b[0merrorbar\u001b[0m\u001b[0;34m(\u001b[0m\u001b[0mInfubinol_x\u001b[0m\u001b[0;34m,\u001b[0m\u001b[0mSurvival_Infubinol_y\u001b[0m\u001b[0;34m,\u001b[0m\u001b[0myerr\u001b[0m\u001b[0;34m=\u001b[0m\u001b[0merror_Infubinol_id\u001b[0m\u001b[0;34m,\u001b[0m\u001b[0mLineStyle\u001b[0m\u001b[0;34m=\u001b[0m\u001b[0;34m\":\"\u001b[0m\u001b[0;34m)\u001b[0m\u001b[0;34m\u001b[0m\u001b[0m\n\u001b[1;32m      3\u001b[0m \u001b[0mplt\u001b[0m\u001b[0;34m.\u001b[0m\u001b[0merrorbar\u001b[0m\u001b[0;34m(\u001b[0m\u001b[0mKetapril_x\u001b[0m\u001b[0;34m,\u001b[0m\u001b[0mSurvival_Ketapril_y\u001b[0m\u001b[0;34m,\u001b[0m\u001b[0myerr\u001b[0m\u001b[0;34m=\u001b[0m\u001b[0merror_Ketapril_id\u001b[0m\u001b[0;34m,\u001b[0m\u001b[0mLineStyle\u001b[0m\u001b[0;34m=\u001b[0m\u001b[0;34m\":\"\u001b[0m\u001b[0;34m)\u001b[0m\u001b[0;34m\u001b[0m\u001b[0m\n\u001b[1;32m      4\u001b[0m \u001b[0mplt\u001b[0m\u001b[0;34m.\u001b[0m\u001b[0merrorbar\u001b[0m\u001b[0;34m(\u001b[0m\u001b[0mPlacebo_x\u001b[0m\u001b[0;34m,\u001b[0m\u001b[0mSurvival_Placebo_y\u001b[0m\u001b[0;34m,\u001b[0m\u001b[0myerr\u001b[0m\u001b[0;34m=\u001b[0m\u001b[0merror_Placebo_id\u001b[0m\u001b[0;34m,\u001b[0m\u001b[0mLineStyle\u001b[0m\u001b[0;34m=\u001b[0m\u001b[0;34m\":\"\u001b[0m\u001b[0;34m)\u001b[0m\u001b[0;34m\u001b[0m\u001b[0m\n",
      "\u001b[0;32m/Users/sumana/anaconda/lib/python3.6/site-packages/matplotlib/pyplot.py\u001b[0m in \u001b[0;36merrorbar\u001b[0;34m(x, y, yerr, xerr, fmt, ecolor, elinewidth, capsize, barsabove, lolims, uplims, xlolims, xuplims, errorevery, capthick, hold, data, **kwargs)\u001b[0m\n\u001b[1;32m   2927\u001b[0m                           \u001b[0mxlolims\u001b[0m\u001b[0;34m=\u001b[0m\u001b[0mxlolims\u001b[0m\u001b[0;34m,\u001b[0m \u001b[0mxuplims\u001b[0m\u001b[0;34m=\u001b[0m\u001b[0mxuplims\u001b[0m\u001b[0;34m,\u001b[0m\u001b[0;34m\u001b[0m\u001b[0m\n\u001b[1;32m   2928\u001b[0m                           \u001b[0merrorevery\u001b[0m\u001b[0;34m=\u001b[0m\u001b[0merrorevery\u001b[0m\u001b[0;34m,\u001b[0m \u001b[0mcapthick\u001b[0m\u001b[0;34m=\u001b[0m\u001b[0mcapthick\u001b[0m\u001b[0;34m,\u001b[0m \u001b[0mdata\u001b[0m\u001b[0;34m=\u001b[0m\u001b[0mdata\u001b[0m\u001b[0;34m,\u001b[0m\u001b[0;34m\u001b[0m\u001b[0m\n\u001b[0;32m-> 2929\u001b[0;31m                           **kwargs)\n\u001b[0m\u001b[1;32m   2930\u001b[0m     \u001b[0;32mfinally\u001b[0m\u001b[0;34m:\u001b[0m\u001b[0;34m\u001b[0m\u001b[0m\n\u001b[1;32m   2931\u001b[0m         \u001b[0max\u001b[0m\u001b[0;34m.\u001b[0m\u001b[0m_hold\u001b[0m \u001b[0;34m=\u001b[0m \u001b[0mwashold\u001b[0m\u001b[0;34m\u001b[0m\u001b[0m\n",
      "\u001b[0;32m/Users/sumana/anaconda/lib/python3.6/site-packages/matplotlib/__init__.py\u001b[0m in \u001b[0;36minner\u001b[0;34m(ax, *args, **kwargs)\u001b[0m\n\u001b[1;32m   1896\u001b[0m                     warnings.warn(msg % (label_namer, func.__name__),\n\u001b[1;32m   1897\u001b[0m                                   RuntimeWarning, stacklevel=2)\n\u001b[0;32m-> 1898\u001b[0;31m             \u001b[0;32mreturn\u001b[0m \u001b[0mfunc\u001b[0m\u001b[0;34m(\u001b[0m\u001b[0max\u001b[0m\u001b[0;34m,\u001b[0m \u001b[0;34m*\u001b[0m\u001b[0margs\u001b[0m\u001b[0;34m,\u001b[0m \u001b[0;34m**\u001b[0m\u001b[0mkwargs\u001b[0m\u001b[0;34m)\u001b[0m\u001b[0;34m\u001b[0m\u001b[0m\n\u001b[0m\u001b[1;32m   1899\u001b[0m         \u001b[0mpre_doc\u001b[0m \u001b[0;34m=\u001b[0m \u001b[0minner\u001b[0m\u001b[0;34m.\u001b[0m\u001b[0m__doc__\u001b[0m\u001b[0;34m\u001b[0m\u001b[0m\n\u001b[1;32m   1900\u001b[0m         \u001b[0;32mif\u001b[0m \u001b[0mpre_doc\u001b[0m \u001b[0;32mis\u001b[0m \u001b[0;32mNone\u001b[0m\u001b[0;34m:\u001b[0m\u001b[0;34m\u001b[0m\u001b[0m\n",
      "\u001b[0;32m/Users/sumana/anaconda/lib/python3.6/site-packages/matplotlib/axes/_axes.py\u001b[0m in \u001b[0;36merrorbar\u001b[0;34m(self, x, y, yerr, xerr, fmt, ecolor, elinewidth, capsize, barsabove, lolims, uplims, xlolims, xuplims, errorevery, capthick, **kwargs)\u001b[0m\n\u001b[1;32m   2905\u001b[0m         \u001b[0;32mif\u001b[0m \u001b[0mplot_line\u001b[0m\u001b[0;34m:\u001b[0m\u001b[0;34m\u001b[0m\u001b[0m\n\u001b[1;32m   2906\u001b[0m             \u001b[0mdata_line\u001b[0m \u001b[0;34m=\u001b[0m \u001b[0mmlines\u001b[0m\u001b[0;34m.\u001b[0m\u001b[0mLine2D\u001b[0m\u001b[0;34m(\u001b[0m\u001b[0mx\u001b[0m\u001b[0;34m,\u001b[0m \u001b[0my\u001b[0m\u001b[0;34m,\u001b[0m \u001b[0;34m**\u001b[0m\u001b[0mplot_line_style\u001b[0m\u001b[0;34m)\u001b[0m\u001b[0;34m\u001b[0m\u001b[0m\n\u001b[0;32m-> 2907\u001b[0;31m             \u001b[0mself\u001b[0m\u001b[0;34m.\u001b[0m\u001b[0madd_line\u001b[0m\u001b[0;34m(\u001b[0m\u001b[0mdata_line\u001b[0m\u001b[0;34m)\u001b[0m\u001b[0;34m\u001b[0m\u001b[0m\n\u001b[0m\u001b[1;32m   2908\u001b[0m \u001b[0;34m\u001b[0m\u001b[0m\n\u001b[1;32m   2909\u001b[0m         \u001b[0mbarcols\u001b[0m \u001b[0;34m=\u001b[0m \u001b[0;34m[\u001b[0m\u001b[0;34m]\u001b[0m\u001b[0;34m\u001b[0m\u001b[0m\n",
      "\u001b[0;32m/Users/sumana/anaconda/lib/python3.6/site-packages/matplotlib/axes/_base.py\u001b[0m in \u001b[0;36madd_line\u001b[0;34m(self, line)\u001b[0m\n\u001b[1;32m   1791\u001b[0m             \u001b[0mline\u001b[0m\u001b[0;34m.\u001b[0m\u001b[0mset_clip_path\u001b[0m\u001b[0;34m(\u001b[0m\u001b[0mself\u001b[0m\u001b[0;34m.\u001b[0m\u001b[0mpatch\u001b[0m\u001b[0;34m)\u001b[0m\u001b[0;34m\u001b[0m\u001b[0m\n\u001b[1;32m   1792\u001b[0m \u001b[0;34m\u001b[0m\u001b[0m\n\u001b[0;32m-> 1793\u001b[0;31m         \u001b[0mself\u001b[0m\u001b[0;34m.\u001b[0m\u001b[0m_update_line_limits\u001b[0m\u001b[0;34m(\u001b[0m\u001b[0mline\u001b[0m\u001b[0;34m)\u001b[0m\u001b[0;34m\u001b[0m\u001b[0m\n\u001b[0m\u001b[1;32m   1794\u001b[0m         \u001b[0;32mif\u001b[0m \u001b[0;32mnot\u001b[0m \u001b[0mline\u001b[0m\u001b[0;34m.\u001b[0m\u001b[0mget_label\u001b[0m\u001b[0;34m(\u001b[0m\u001b[0;34m)\u001b[0m\u001b[0;34m:\u001b[0m\u001b[0;34m\u001b[0m\u001b[0m\n\u001b[1;32m   1795\u001b[0m             \u001b[0mline\u001b[0m\u001b[0;34m.\u001b[0m\u001b[0mset_label\u001b[0m\u001b[0;34m(\u001b[0m\u001b[0;34m'_line%d'\u001b[0m \u001b[0;34m%\u001b[0m \u001b[0mlen\u001b[0m\u001b[0;34m(\u001b[0m\u001b[0mself\u001b[0m\u001b[0;34m.\u001b[0m\u001b[0mlines\u001b[0m\u001b[0;34m)\u001b[0m\u001b[0;34m)\u001b[0m\u001b[0;34m\u001b[0m\u001b[0m\n",
      "\u001b[0;32m/Users/sumana/anaconda/lib/python3.6/site-packages/matplotlib/axes/_base.py\u001b[0m in \u001b[0;36m_update_line_limits\u001b[0;34m(self, line)\u001b[0m\n\u001b[1;32m   1813\u001b[0m         \u001b[0mFigures\u001b[0m \u001b[0mout\u001b[0m \u001b[0mthe\u001b[0m \u001b[0mdata\u001b[0m \u001b[0mlimit\u001b[0m \u001b[0mof\u001b[0m \u001b[0mthe\u001b[0m \u001b[0mgiven\u001b[0m \u001b[0mline\u001b[0m\u001b[0;34m,\u001b[0m \u001b[0mupdating\u001b[0m \u001b[0mself\u001b[0m\u001b[0;34m.\u001b[0m\u001b[0mdataLim\u001b[0m\u001b[0;34m.\u001b[0m\u001b[0;34m\u001b[0m\u001b[0m\n\u001b[1;32m   1814\u001b[0m         \"\"\"\n\u001b[0;32m-> 1815\u001b[0;31m         \u001b[0mpath\u001b[0m \u001b[0;34m=\u001b[0m \u001b[0mline\u001b[0m\u001b[0;34m.\u001b[0m\u001b[0mget_path\u001b[0m\u001b[0;34m(\u001b[0m\u001b[0;34m)\u001b[0m\u001b[0;34m\u001b[0m\u001b[0m\n\u001b[0m\u001b[1;32m   1816\u001b[0m         \u001b[0;32mif\u001b[0m \u001b[0mpath\u001b[0m\u001b[0;34m.\u001b[0m\u001b[0mvertices\u001b[0m\u001b[0;34m.\u001b[0m\u001b[0msize\u001b[0m \u001b[0;34m==\u001b[0m \u001b[0;36m0\u001b[0m\u001b[0;34m:\u001b[0m\u001b[0;34m\u001b[0m\u001b[0m\n\u001b[1;32m   1817\u001b[0m             \u001b[0;32mreturn\u001b[0m\u001b[0;34m\u001b[0m\u001b[0m\n",
      "\u001b[0;32m/Users/sumana/anaconda/lib/python3.6/site-packages/matplotlib/lines.py\u001b[0m in \u001b[0;36mget_path\u001b[0;34m(self)\u001b[0m\n\u001b[1;32m    987\u001b[0m         \"\"\"\n\u001b[1;32m    988\u001b[0m         \u001b[0;32mif\u001b[0m \u001b[0mself\u001b[0m\u001b[0;34m.\u001b[0m\u001b[0m_invalidy\u001b[0m \u001b[0;32mor\u001b[0m \u001b[0mself\u001b[0m\u001b[0;34m.\u001b[0m\u001b[0m_invalidx\u001b[0m\u001b[0;34m:\u001b[0m\u001b[0;34m\u001b[0m\u001b[0m\n\u001b[0;32m--> 989\u001b[0;31m             \u001b[0mself\u001b[0m\u001b[0;34m.\u001b[0m\u001b[0mrecache\u001b[0m\u001b[0;34m(\u001b[0m\u001b[0;34m)\u001b[0m\u001b[0;34m\u001b[0m\u001b[0m\n\u001b[0m\u001b[1;32m    990\u001b[0m         \u001b[0;32mreturn\u001b[0m \u001b[0mself\u001b[0m\u001b[0;34m.\u001b[0m\u001b[0m_path\u001b[0m\u001b[0;34m\u001b[0m\u001b[0m\n\u001b[1;32m    991\u001b[0m \u001b[0;34m\u001b[0m\u001b[0m\n",
      "\u001b[0;32m/Users/sumana/anaconda/lib/python3.6/site-packages/matplotlib/lines.py\u001b[0m in \u001b[0;36mrecache\u001b[0;34m(self, always)\u001b[0m\n\u001b[1;32m    694\u001b[0m \u001b[0;34m\u001b[0m\u001b[0m\n\u001b[1;32m    695\u001b[0m         \u001b[0;32mif\u001b[0m \u001b[0mlen\u001b[0m\u001b[0;34m(\u001b[0m\u001b[0mx\u001b[0m\u001b[0;34m)\u001b[0m \u001b[0;34m!=\u001b[0m \u001b[0mlen\u001b[0m\u001b[0;34m(\u001b[0m\u001b[0my\u001b[0m\u001b[0;34m)\u001b[0m\u001b[0;34m:\u001b[0m\u001b[0;34m\u001b[0m\u001b[0m\n\u001b[0;32m--> 696\u001b[0;31m             \u001b[0;32mraise\u001b[0m \u001b[0mRuntimeError\u001b[0m\u001b[0;34m(\u001b[0m\u001b[0;34m'xdata and ydata must be the same length'\u001b[0m\u001b[0;34m)\u001b[0m\u001b[0;34m\u001b[0m\u001b[0m\n\u001b[0m\u001b[1;32m    697\u001b[0m \u001b[0;34m\u001b[0m\u001b[0m\n\u001b[1;32m    698\u001b[0m         \u001b[0mself\u001b[0m\u001b[0;34m.\u001b[0m\u001b[0m_xy\u001b[0m \u001b[0;34m=\u001b[0m \u001b[0mnp\u001b[0m\u001b[0;34m.\u001b[0m\u001b[0mempty\u001b[0m\u001b[0;34m(\u001b[0m\u001b[0;34m(\u001b[0m\u001b[0mlen\u001b[0m\u001b[0;34m(\u001b[0m\u001b[0mx\u001b[0m\u001b[0;34m)\u001b[0m\u001b[0;34m,\u001b[0m \u001b[0;36m2\u001b[0m\u001b[0;34m)\u001b[0m\u001b[0;34m,\u001b[0m \u001b[0mdtype\u001b[0m\u001b[0;34m=\u001b[0m\u001b[0mnp\u001b[0m\u001b[0;34m.\u001b[0m\u001b[0mfloat_\u001b[0m\u001b[0;34m)\u001b[0m\u001b[0;34m\u001b[0m\u001b[0m\n",
      "\u001b[0;31mRuntimeError\u001b[0m: xdata and ydata must be the same length"
     ]
    }
   ],
   "source": [
    "plt.errorbar(x_axis,Survival_Capomulin_y,yerr=error_Capomulin_id,LineStyle=\":\")\n",
    "plt.errorbar(Infubinol_x,Survival_Infubinol_y,yerr=error_Infubinol_id,LineStyle=\":\")\n",
    "plt.errorbar(Ketapril_x,Survival_Ketapril_y,yerr=error_Ketapril_id,LineStyle=\":\")\n",
    "plt.errorbar(Placebo_x,Survival_Placebo_y,yerr=error_Placebo_id,LineStyle=\":\")"
   ]
  },
  {
   "cell_type": "code",
   "execution_count": null,
   "metadata": {},
   "outputs": [],
   "source": [
    "# Give our chart some labels and a tile\n",
    "plt.title(\"Tumor change over 45 days tratment\")\n",
    "plt.ylabel(\"% volume change\")"
   ]
  },
  {
   "cell_type": "code",
   "execution_count": null,
   "metadata": {},
   "outputs": [],
   "source": [
    "plt.show()"
   ]
  },
  {
   "cell_type": "code",
   "execution_count": null,
   "metadata": {
    "collapsed": true
   },
   "outputs": [],
   "source": []
  },
  {
   "cell_type": "code",
   "execution_count": null,
   "metadata": {
    "collapsed": true
   },
   "outputs": [],
   "source": []
  }
 ],
 "metadata": {
  "kernelspec": {
   "display_name": "Python 3",
   "language": "python",
   "name": "python3"
  },
  "language_info": {
   "codemirror_mode": {
    "name": "ipython",
    "version": 3
   },
   "file_extension": ".py",
   "mimetype": "text/x-python",
   "name": "python",
   "nbconvert_exporter": "python",
   "pygments_lexer": "ipython3",
   "version": "3.6.1"
  }
 },
 "nbformat": 4,
 "nbformat_minor": 2
}
