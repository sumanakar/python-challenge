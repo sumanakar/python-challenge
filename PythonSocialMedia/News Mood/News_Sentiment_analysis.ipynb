{
 "cells": [
  {
   "cell_type": "markdown",
   "metadata": {},
   "source": [
    "### Analysis\n",
    "\n",
    "-CBS newsfeed are positive of all the compared news channel\n",
    "\n",
    "-CNN and NYTimes have the most negative news feed in their twitter feed\n",
    "\n",
    "-FOXNews and NYTimes have large number of neutral feeds\n"
   ]
  },
  {
   "cell_type": "code",
   "execution_count": 18,
   "metadata": {
    "collapsed": true
   },
   "outputs": [],
   "source": [
    "# Dependencies\n",
    "import tweepy\n",
    "import json\n",
    "import pandas as pd\n",
    "import numpy as np\n",
    "import matplotlib.pyplot as plt \n",
    "import datetime\n",
    "import seaborn as sns\n",
    "\n",
    "# Import and Initialize Sentiment Analyzer\n",
    "from vaderSentiment.vaderSentiment import SentimentIntensityAnalyzer\n",
    "analyzer = SentimentIntensityAnalyzer()\n",
    "\n",
    "#all the values of api keys\n",
    "\n",
    "if os.path.isfile(\"apikey.csv\"):\n",
    "    key_df=pd.read_csv(\"apikey.csv\")\n",
    "    consumer_key=key_df.loc[0,'consumer_key']\n",
    "    consumer_secret=key_df.loc[0,'consumer_secret']\n",
    "    access_token=key_df.loc[0,'access_token']\n",
    "    access_token_secret=key_df.loc[0,'access_token_secret']\n",
    "\n",
    "else:\n",
    "    consumer_key=input(\"Enter the consumer_key: \")\n",
    "    consumer_secret=input(\"Enter the consumer_secret: \")\n",
    "    access_token=input(\"Enter the access_token: \")\n",
    "    access_token_secret=input(\"Enter the access_token_secret: \")\n",
    "    data = [{'consumer_key': consumer_key,'consumer_secret':consumer_secret,'access_token':access_token,'access_token_secret':access_token_secret}]\n",
    "    df = pd.DataFrame(data)\n",
    "    df.to_csv('apikey.csv', index=False)\n",
    "    print(\"file do not exist,creating..\")\n",
    "\n",
    "# Use Tweepy to Authenticate our access\n",
    "auth = tweepy.OAuthHandler(consumer_key, consumer_secret)\n",
    "auth.set_access_token(access_token, access_token_secret)\n",
    "api = tweepy.API(auth, parser=tweepy.parsers.JSONParser())"
   ]
  },
  {
   "cell_type": "code",
   "execution_count": 19,
   "metadata": {},
   "outputs": [
    {
     "data": {
      "text/html": [
       "<div>\n",
       "<style>\n",
       "    .dataframe thead tr:only-child th {\n",
       "        text-align: right;\n",
       "    }\n",
       "\n",
       "    .dataframe thead th {\n",
       "        text-align: left;\n",
       "    }\n",
       "\n",
       "    .dataframe tbody tr th {\n",
       "        vertical-align: top;\n",
       "    }\n",
       "</style>\n",
       "<table border=\"1\" class=\"dataframe\">\n",
       "  <thead>\n",
       "    <tr style=\"text-align: right;\">\n",
       "      <th></th>\n",
       "      <th>News Channel</th>\n",
       "      <th>Text</th>\n",
       "      <th>Dated</th>\n",
       "      <th>Compound</th>\n",
       "      <th>Positive</th>\n",
       "      <th>Negative</th>\n",
       "      <th>Neutral</th>\n",
       "    </tr>\n",
       "  </thead>\n",
       "  <tbody>\n",
       "  </tbody>\n",
       "</table>\n",
       "</div>"
      ],
      "text/plain": [
       "Empty DataFrame\n",
       "Columns: [News Channel, Text, Dated, Compound, Positive, Negative, Neutral]\n",
       "Index: []"
      ]
     },
     "execution_count": 19,
     "metadata": {},
     "output_type": "execute_result"
    }
   ],
   "source": [
    "# Target User for News channel\n",
    "\n",
    "news_list=[\"@CNN\",\"@CBS\",\"@BBC\",\"@FoxNews\",\"@nytimes\"]\n",
    "\n",
    "# Variables for holding sentiments\n",
    "compound_list = []\n",
    "positive_list = []\n",
    "negative_list = []\n",
    "neutral_list = []\n",
    "\n",
    "#create dataframe \n",
    "news_tweet=pd.DataFrame(columns=[\"News Channel\",\"Text\",\"Dated\",\"Compound\",\"Positive\",\"Negative\",\"Neutral\"])\n",
    "news_tweet"
   ]
  },
  {
   "cell_type": "code",
   "execution_count": 20,
   "metadata": {
    "collapsed": true
   },
   "outputs": [],
   "source": [
    "# Loop through 5 pages of tweets (total 100 tweets)\n",
    "for x in range(5):\n",
    "    \n",
    "    for item in news_list:\n",
    "\n",
    "        # Get all tweets from home feed\n",
    "        public_tweets = api.user_timeline(item)\n",
    "\n",
    "        # Loop through all tweets\n",
    "        for tweet in public_tweets:\n",
    "            \n",
    "            try:\n",
    "            \n",
    "                tweet_name=tweet[\"user\"][\"screen_name\"]\n",
    "                tweet_date=tweet[\"created_at\"]\n",
    "                tweet_text=tweet[\"text\"]\n",
    "\n",
    "                # Run Vader Analysis on each tweet\n",
    "                compound = analyzer.polarity_scores(tweet_text)[\"compound\"]\n",
    "                pos = analyzer.polarity_scores(tweet_text)[\"pos\"]\n",
    "                neu = analyzer.polarity_scores(tweet_text)[\"neu\"]\n",
    "                neg = analyzer.polarity_scores(tweet_text)[\"neg\"]\n",
    "\n",
    "                #Entering the values in dataframe\n",
    "                news_tweet = news_tweet.append([{\"News Channel\":tweet_name,\n",
    "                                                 \"Text\":tweet_text,\n",
    "                                                 \"Dated\":tweet_date,\n",
    "                                                 \"Compound\":compound,\n",
    "                                                 \"Positive\":pos,\n",
    "                                                 \"Negative\":neu,\n",
    "                                                 \"Neutral\":neg\n",
    "                                                }],ignore_index=True)\n",
    "            except:\n",
    "                \n",
    "                print(\"No Values\")\n",
    "                \n",
    "\n"
   ]
  },
  {
   "cell_type": "code",
   "execution_count": 21,
   "metadata": {},
   "outputs": [
    {
     "data": {
      "text/html": [
       "<div>\n",
       "<style>\n",
       "    .dataframe thead tr:only-child th {\n",
       "        text-align: right;\n",
       "    }\n",
       "\n",
       "    .dataframe thead th {\n",
       "        text-align: left;\n",
       "    }\n",
       "\n",
       "    .dataframe tbody tr th {\n",
       "        vertical-align: top;\n",
       "    }\n",
       "</style>\n",
       "<table border=\"1\" class=\"dataframe\">\n",
       "  <thead>\n",
       "    <tr style=\"text-align: right;\">\n",
       "      <th></th>\n",
       "      <th>News Channel</th>\n",
       "      <th>Text</th>\n",
       "      <th>Dated</th>\n",
       "      <th>Compound</th>\n",
       "      <th>Positive</th>\n",
       "      <th>Negative</th>\n",
       "      <th>Neutral</th>\n",
       "    </tr>\n",
       "  </thead>\n",
       "  <tbody>\n",
       "    <tr>\n",
       "      <th>0</th>\n",
       "      <td>CNN</td>\n",
       "      <td>Here's your complete list of #Emmy nominations...</td>\n",
       "      <td>Sun Sep 17 23:00:24 +0000 2017</td>\n",
       "      <td>-0.2732</td>\n",
       "      <td>0.000</td>\n",
       "      <td>0.870</td>\n",
       "      <td>0.130</td>\n",
       "    </tr>\n",
       "    <tr>\n",
       "      <th>1</th>\n",
       "      <td>CNN</td>\n",
       "      <td>Sen. Dianne Feinstein: “I have never been in a...</td>\n",
       "      <td>Sun Sep 17 22:46:04 +0000 2017</td>\n",
       "      <td>0.3612</td>\n",
       "      <td>0.122</td>\n",
       "      <td>0.878</td>\n",
       "      <td>0.000</td>\n",
       "    </tr>\n",
       "    <tr>\n",
       "      <th>2</th>\n",
       "      <td>CNN</td>\n",
       "      <td>Russian forces fire on the US-backed Syrian De...</td>\n",
       "      <td>Sun Sep 17 22:30:12 +0000 2017</td>\n",
       "      <td>-0.3400</td>\n",
       "      <td>0.000</td>\n",
       "      <td>0.854</td>\n",
       "      <td>0.146</td>\n",
       "    </tr>\n",
       "    <tr>\n",
       "      <th>3</th>\n",
       "      <td>CNN</td>\n",
       "      <td>The key categories to watch during tonight's #...</td>\n",
       "      <td>Sun Sep 17 22:23:05 +0000 2017</td>\n",
       "      <td>0.0000</td>\n",
       "      <td>0.000</td>\n",
       "      <td>1.000</td>\n",
       "      <td>0.000</td>\n",
       "    </tr>\n",
       "    <tr>\n",
       "      <th>4</th>\n",
       "      <td>CNN</td>\n",
       "      <td>Neil deGrasse Tyson says it might be 'too late...</td>\n",
       "      <td>Sun Sep 17 22:15:03 +0000 2017</td>\n",
       "      <td>0.0000</td>\n",
       "      <td>0.000</td>\n",
       "      <td>1.000</td>\n",
       "      <td>0.000</td>\n",
       "    </tr>\n",
       "  </tbody>\n",
       "</table>\n",
       "</div>"
      ],
      "text/plain": [
       "  News Channel                                               Text  \\\n",
       "0          CNN  Here's your complete list of #Emmy nominations...   \n",
       "1          CNN  Sen. Dianne Feinstein: “I have never been in a...   \n",
       "2          CNN  Russian forces fire on the US-backed Syrian De...   \n",
       "3          CNN  The key categories to watch during tonight's #...   \n",
       "4          CNN  Neil deGrasse Tyson says it might be 'too late...   \n",
       "\n",
       "                            Dated  Compound  Positive  Negative  Neutral  \n",
       "0  Sun Sep 17 23:00:24 +0000 2017   -0.2732     0.000     0.870    0.130  \n",
       "1  Sun Sep 17 22:46:04 +0000 2017    0.3612     0.122     0.878    0.000  \n",
       "2  Sun Sep 17 22:30:12 +0000 2017   -0.3400     0.000     0.854    0.146  \n",
       "3  Sun Sep 17 22:23:05 +0000 2017    0.0000     0.000     1.000    0.000  \n",
       "4  Sun Sep 17 22:15:03 +0000 2017    0.0000     0.000     1.000    0.000  "
      ]
     },
     "execution_count": 21,
     "metadata": {},
     "output_type": "execute_result"
    }
   ],
   "source": [
    "news_tweet.head()"
   ]
  },
  {
   "cell_type": "code",
   "execution_count": 22,
   "metadata": {},
   "outputs": [
    {
     "data": {
      "text/plain": [
       "array(['CNN', 'CBS', 'BBC', 'FoxNews', 'nytimes'], dtype=object)"
      ]
     },
     "execution_count": 22,
     "metadata": {},
     "output_type": "execute_result"
    }
   ],
   "source": [
    "news_tweet[\"News Channel\"].unique()"
   ]
  },
  {
   "cell_type": "code",
   "execution_count": 23,
   "metadata": {
    "collapsed": true
   },
   "outputs": [],
   "source": [
    "news_tweet.to_csv('newsoutputanalysis.csv', index=False)"
   ]
  },
  {
   "cell_type": "code",
   "execution_count": 24,
   "metadata": {
    "collapsed": true
   },
   "outputs": [],
   "source": [
    "\n",
    "newsfeedanalysis_cnn=news_tweet.loc[news_tweet[\"News Channel\"]==\"CNN\"]\n",
    "newsfeedanalysis_cbs=news_tweet.loc[news_tweet[\"News Channel\"]==\"CBS\"]\n",
    "newsfeedanalysis_bbc=news_tweet.loc[news_tweet[\"News Channel\"]==\"BBC\"]\n",
    "newsfeedanalysis_fox=news_tweet.loc[news_tweet[\"News Channel\"]==\"FoxNews\"]\n",
    "newsfeedanalysis_nytime=news_tweet.loc[news_tweet[\"News Channel\"]==\"nytimes\"]\n"
   ]
  },
  {
   "cell_type": "code",
   "execution_count": 25,
   "metadata": {},
   "outputs": [
    {
     "data": {
      "text/plain": [
       "(0, 100)"
      ]
     },
     "execution_count": 25,
     "metadata": {},
     "output_type": "execute_result"
    }
   ],
   "source": [
    "x_cnn=np.arange(len(newsfeedanalysis_cnn))\n",
    "x_cbs=np.arange(len(newsfeedanalysis_cbs))\n",
    "x_bbc=np.arange(len(newsfeedanalysis_bbc))\n",
    "x_fox=np.arange(len(newsfeedanalysis_fox))\n",
    "x_ny=np.arange(len(newsfeedanalysis_nytime))\n",
    "\n",
    "cnn=plt.scatter(x_cnn,newsfeedanalysis_cnn[\"Compound\"],marker=\"o\",facecolors=\"Red\",edgecolors=\"black\",s=100, alpha=1,label=\"CNN\")\n",
    "cbs=plt.scatter(x_cbs,newsfeedanalysis_cbs[\"Compound\"],marker=\"o\",facecolors=\"DarkBlue\",edgecolors=\"black\",s=100, alpha=1,label=\"CBS\")\n",
    "bbc=plt.scatter(x_bbc,newsfeedanalysis_bbc[\"Compound\"],marker=\"o\",facecolors=\"Yellow\",edgecolors=\"black\",s=100, alpha=1,label=\"BBC\")\n",
    "fox=plt.scatter(x_fox,newsfeedanalysis_fox[\"Compound\"],marker=\"o\",facecolors=\"Green\",edgecolors=\"black\",s=100, alpha=1,label=\"FOX\")\n",
    "ny=plt.scatter(x_ny,newsfeedanalysis_nytime[\"Compound\"],marker=\"o\",facecolors=\"Aqua\",edgecolors=\"black\",s=100, alpha=1,label=\"NYTimes\")\n",
    "\n",
    "plt.xlim([0,100])"
   ]
  },
  {
   "cell_type": "code",
   "execution_count": 26,
   "metadata": {
    "collapsed": true
   },
   "outputs": [],
   "source": [
    "#time stamp for title\n",
    "\n",
    "t=datetime.date.today()"
   ]
  },
  {
   "cell_type": "code",
   "execution_count": 27,
   "metadata": {},
   "outputs": [
    {
     "data": {
      "image/png": "[encoded data removed]",
      "text/plain": [
       "<matplotlib.figure.Figure at 0x117b44438>"
      ]
     },
     "metadata": {},
     "output_type": "display_data"
    }
   ],
   "source": [
    "#adding the text to axis and overall title\n",
    "plt.title('Sentiment Analysis of Tweet as of ' + str(t), fontsize=15)\n",
    "plt.xlabel('Tweet Ago', fontsize=9)\n",
    "plt.ylabel('Tweet Polarity', fontsize=9)\n",
    "\n",
    "#grid on\n",
    "plt.grid()\n",
    "#plot the legend out side\n",
    "plt.legend(handles=[cnn,cbs,bbc,fox,ny], loc='center left', bbox_to_anchor=(1, 0.5))\n",
    "\n",
    "#increase the plot size\n",
    "plt.rcParams[\"figure.figsize\"] = (10,8)\n",
    "\n",
    "ax = plt.gca()\n",
    "ax.set_facecolor('cornflowerblue')\n",
    "ax.patch.set_alpha(0.1)\n",
    "\n",
    "#save the figure\n",
    "\n",
    "plt.savefig('Sentiment_Analysis.png')\n",
    "#show the plot\n",
    "plt.show()"
   ]
  },
  {
   "cell_type": "code",
   "execution_count": 28,
   "metadata": {},
   "outputs": [
    {
     "data": {
      "text/html": [
       "<div>\n",
       "<style>\n",
       "    .dataframe thead tr:only-child th {\n",
       "        text-align: right;\n",
       "    }\n",
       "\n",
       "    .dataframe thead th {\n",
       "        text-align: left;\n",
       "    }\n",
       "\n",
       "    .dataframe tbody tr th {\n",
       "        vertical-align: top;\n",
       "    }\n",
       "</style>\n",
       "<table border=\"1\" class=\"dataframe\">\n",
       "  <thead>\n",
       "    <tr style=\"text-align: right;\">\n",
       "      <th></th>\n",
       "      <th>Compound</th>\n",
       "      <th>Positive</th>\n",
       "      <th>Negative</th>\n",
       "      <th>Neutral</th>\n",
       "    </tr>\n",
       "    <tr>\n",
       "      <th>News Channel</th>\n",
       "      <th></th>\n",
       "      <th></th>\n",
       "      <th></th>\n",
       "      <th></th>\n",
       "    </tr>\n",
       "  </thead>\n",
       "  <tbody>\n",
       "    <tr>\n",
       "      <th>BBC</th>\n",
       "      <td>0.13</td>\n",
       "      <td>0.11</td>\n",
       "      <td>0.84</td>\n",
       "      <td>0.06</td>\n",
       "    </tr>\n",
       "    <tr>\n",
       "      <th>CBS</th>\n",
       "      <td>0.50</td>\n",
       "      <td>0.20</td>\n",
       "      <td>0.80</td>\n",
       "      <td>0.00</td>\n",
       "    </tr>\n",
       "    <tr>\n",
       "      <th>CNN</th>\n",
       "      <td>-0.09</td>\n",
       "      <td>0.03</td>\n",
       "      <td>0.88</td>\n",
       "      <td>0.09</td>\n",
       "    </tr>\n",
       "    <tr>\n",
       "      <th>FoxNews</th>\n",
       "      <td>0.04</td>\n",
       "      <td>0.10</td>\n",
       "      <td>0.81</td>\n",
       "      <td>0.09</td>\n",
       "    </tr>\n",
       "    <tr>\n",
       "      <th>nytimes</th>\n",
       "      <td>-0.17</td>\n",
       "      <td>0.02</td>\n",
       "      <td>0.90</td>\n",
       "      <td>0.08</td>\n",
       "    </tr>\n",
       "  </tbody>\n",
       "</table>\n",
       "</div>"
      ],
      "text/plain": [
       "              Compound  Positive  Negative  Neutral\n",
       "News Channel                                       \n",
       "BBC               0.13      0.11      0.84     0.06\n",
       "CBS               0.50      0.20      0.80     0.00\n",
       "CNN              -0.09      0.03      0.88     0.09\n",
       "FoxNews           0.04      0.10      0.81     0.09\n",
       "nytimes          -0.17      0.02      0.90     0.08"
      ]
     },
     "execution_count": 28,
     "metadata": {},
     "output_type": "execute_result"
    }
   ],
   "source": [
    "#overall sentiment for each new channel\n",
    "\n",
    "analysis_means=round(news_tweet.groupby(news_tweet[\"News Channel\"]).mean(),2)\n",
    "analysis_means"
   ]
  },
  {
   "cell_type": "code",
   "execution_count": 29,
   "metadata": {
    "collapsed": true
   },
   "outputs": [],
   "source": [
    "#Get the values for x-axis and Y-axis\n",
    "\n",
    "label=[]\n",
    "y_axis=[]\n",
    "\n",
    "for index,row in analysis_means.iterrows():\n",
    "    \n",
    "    l=index\n",
    "    y=row[\"Compound\"]\n",
    "    label.append(l)\n",
    "    y_axis.append(y)"
   ]
  },
  {
   "cell_type": "code",
   "execution_count": 30,
   "metadata": {
    "collapsed": true
   },
   "outputs": [],
   "source": [
    "x_axis=np.arange(len(label))\n"
   ]
  },
  {
   "cell_type": "code",
   "execution_count": 31,
   "metadata": {
    "collapsed": true
   },
   "outputs": [],
   "source": [
    "# plot the bar graph with Seaborn library\n",
    "\n",
    "#color palatte based on value of y\n",
    "\n",
    "lenth=len(y_axis)\n",
    "\n",
    "color=[\"green\" if (y_axis[i]>0) else \"red\" for i in range(lenth)]\n",
    "\n",
    "#plot the Bar graph\n",
    "\n",
    "ax = sns.barplot(x_axis,y_axis,palette=color)\n",
    "barwidth = [0.4,0.4,0.4,0.4,0.4]\n",
    "ax.set_ylim(min(y_axis)-.02, max(y_axis)+.03)\n",
    "\n",
    "label_y = analysis_means.Compound\n",
    "\n",
    "#get the value on the bar\n",
    "\n",
    "for bar, newwidth, label2 in zip(ax.patches,barwidth,label_y):\n",
    "    x = bar.get_x()\n",
    "    width = bar.get_width()\n",
    "    height = bar.get_height()\n",
    "    centre = x+width/2\n",
    "    bar.set_x(centre-newwidth/2)\n",
    "    bar.set_width(newwidth)\n",
    "    height = (height + 0.01 if height>0 else height - 0.02)\n",
    "    ax.text(x+width/2,height,'{0:4.2f}'.format(label2),ha=\"center\") \n"
   ]
  },
  {
   "cell_type": "code",
   "execution_count": 32,
   "metadata": {},
   "outputs": [
    {
     "data": {
      "text/plain": [
       "[<matplotlib.text.Text at 0x117b05c88>,\n",
       " <matplotlib.text.Text at 0x117b0a978>,\n",
       " <matplotlib.text.Text at 0x1179ffda0>,\n",
       " <matplotlib.text.Text at 0x117a04898>,\n",
       " <matplotlib.text.Text at 0x11bba0390>]"
      ]
     },
     "execution_count": 32,
     "metadata": {},
     "output_type": "execute_result"
    }
   ],
   "source": [
    "# Tell matplotlib where we would like to place each of our x axis headers\n",
    "\n",
    "ax.set_xlim(-.25,len(x_axis))\n",
    "ax.set_xticklabels(label, rotation=0, ha='center',fontsize=12)\n"
   ]
  },
  {
   "cell_type": "code",
   "execution_count": 33,
   "metadata": {},
   "outputs": [
    {
     "data": {
      "text/plain": [
       "<matplotlib.text.Text at 0x117af0ba8>"
      ]
     },
     "execution_count": 33,
     "metadata": {},
     "output_type": "execute_result"
    }
   ],
   "source": [
    "# Give our chart some labels and a tile\n",
    "plt.title('Overall Sentiment Analysis of Tweet as of ' + str(t), fontsize=15)\n",
    "plt.ylabel(\"Twitter Polarity\",fontsize=12)\n"
   ]
  },
  {
   "cell_type": "code",
   "execution_count": 34,
   "metadata": {},
   "outputs": [
    {
     "data": {
      "image/png": "[encoded data removed]",
      "text/plain": [
       "<matplotlib.figure.Figure at 0x117a77e48>"
      ]
     },
     "metadata": {},
     "output_type": "display_data"
    }
   ],
   "source": [
    "#plot the graph\n",
    "\n",
    "plt.savefig('Overall_Sentiment_Analysis.png')\n",
    "plt.show()"
   ]
  },
  {
   "cell_type": "code",
   "execution_count": null,
   "metadata": {
    "collapsed": true
   },
   "outputs": [],
   "source": []
  },
  {
   "cell_type": "code",
   "execution_count": null,
   "metadata": {
    "collapsed": true
   },
   "outputs": [],
   "source": []
  },
  {
   "cell_type": "code",
   "execution_count": null,
   "metadata": {
    "collapsed": true
   },
   "outputs": [],
   "source": []
  }
 ],
 "metadata": {
  "kernelspec": {
   "display_name": "Python [conda env:PythonData]",
   "language": "python",
   "name": "conda-env-PythonData-py"
  },
  "language_info": {
   "codemirror_mode": {
    "name": "ipython",
    "version": 3
   },
   "file_extension": ".py",
   "mimetype": "text/x-python",
   "name": "python",
   "nbconvert_exporter": "python",
   "pygments_lexer": "ipython3",
   "version": "3.6.1"
  }
 },
 "nbformat": 4,
 "nbformat_minor": 2
}
