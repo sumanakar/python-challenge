{
 "cells": [
  {
   "cell_type": "code",
   "execution_count": 1,
   "metadata": {
    "collapsed": true
   },
   "outputs": [],
   "source": [
    "# Dependencies\n",
    "from bs4 import BeautifulSoup\n",
    "import requests\n",
    "import pymongo\n",
    "from splinter import Browser\n",
    "import time\n",
    "import os\n",
    "import pandas as pd\n",
    "import numpy as np\n",
    "import tweepy"
   ]
  },
  {
   "cell_type": "code",
   "execution_count": 2,
   "metadata": {
    "collapsed": true
   },
   "outputs": [],
   "source": [
    "# Initialize PyMongo to work with MongoDBs\n",
    "conn = 'mongodb://localhost:27017'\n",
    "client = pymongo.MongoClient(conn)"
   ]
  },
  {
   "cell_type": "code",
   "execution_count": 3,
   "metadata": {
    "collapsed": true
   },
   "outputs": [],
   "source": [
    "# Define database and collection\n",
    "db = client.mars_mission_db\n",
    "collection = db.mission_records\n"
   ]
  },
  {
   "cell_type": "code",
   "execution_count": 4,
   "metadata": {
    "collapsed": true
   },
   "outputs": [],
   "source": [
    "#Step1: Information about Mars\n",
    "\n",
    "# URL of page to be scraped\n",
    "url_mission =\"https://mars.nasa.gov/news\""
   ]
  },
  {
   "cell_type": "code",
   "execution_count": 5,
   "metadata": {
    "collapsed": true
   },
   "outputs": [],
   "source": [
    "# Retrieve page with the requests module\n",
    "response_mission = requests.get(url_mission)\n",
    "\n",
    "# Create BeautifulSoup object; parse with 'lxml'\n",
    "soup_mission = BeautifulSoup(response_mission.text, 'lxml')"
   ]
  },
  {
   "cell_type": "code",
   "execution_count": 6,
   "metadata": {
    "collapsed": true
   },
   "outputs": [],
   "source": [
    "# results are returned as an iterable list\n",
    "results=soup_mission.find_all('div', class_='slide')"
   ]
  },
  {
   "cell_type": "code",
   "execution_count": 7,
   "metadata": {
    "collapsed": true
   },
   "outputs": [],
   "source": [
    "#declare empty list to contain the result\n",
    "\n",
    "title_record=[]\n",
    "text_record=[]\n",
    "\n",
    "for result in results:\n",
    "    \n",
    "    news_title=result.find('div', class_='content_title').text\n",
    "    news_title=news_title.strip('\\n')\n",
    "    news_text=result.find('div', class_='rollover_description_inner').text\n",
    "    news_text=news_text.strip('\\n')\n",
    "    title_record.append(news_title)\n",
    "    text_record.append(news_text)\n",
    "    \n",
    "news_title_mars=title_record[0]\n",
    "news_text_mars=text_record[0]"
   ]
  },
  {
   "cell_type": "code",
   "execution_count": 8,
   "metadata": {},
   "outputs": [
    {
     "data": {
      "text/plain": [
       "\"Martian Ridge Brings Out Rover's Color Talents\""
      ]
     },
     "execution_count": 8,
     "metadata": {},
     "output_type": "execute_result"
    }
   ],
   "source": [
    "news_title_mars"
   ]
  },
  {
   "cell_type": "code",
   "execution_count": 9,
   "metadata": {},
   "outputs": [
    {
     "data": {
      "text/plain": [
       "'On a part of \"Vera Rubin Ridge\" where rover-team researchers sought to determine whether dust coatings are hiding rocks\\' hematite content, the Mast Camera (Mastcam) on NASA\\'s Curiosity Mars rover took this image of a rock surface that had been brushed with the rover\\'s Dust Removal Tool.'"
      ]
     },
     "execution_count": 9,
     "metadata": {},
     "output_type": "execute_result"
    }
   ],
   "source": [
    "news_text_mars"
   ]
  },
  {
   "cell_type": "code",
   "execution_count": 10,
   "metadata": {},
   "outputs": [
    {
     "name": "stdout",
     "output_type": "stream",
     "text": [
      "sleeping for 5 sec\n"
     ]
    }
   ],
   "source": [
    "#step 2: scrap for the featured image\n",
    "\n",
    "browser = Browser('chrome', headless=False)\n",
    "\n",
    "# URL of page to be scraped\n",
    "url_images=\"https://www.jpl.nasa.gov/spaceimages/?search=&category=Mars\"\n",
    "\n",
    "browser.visit(url_images)\n",
    "\n",
    "# Click the full image button\n",
    "full_image = browser.find_link_by_partial_text('FULL IMAGE')\n",
    "\n",
    "#Click the more info button\n",
    "full_image.click()\n",
    "more_info = browser.find_link_by_partial_text('more info').first\n",
    "\n",
    "while not more_info.visible:\n",
    "    print('sleeping for 5 sec')\n",
    "    time.sleep(5)\n",
    "\n",
    "more_info.click()\n",
    "\n",
    "#parse the kink for the image\n",
    "image_elem = browser.find_by_tag('article').find_by_tag('img')\n",
    "content=image_elem.outer_html\n",
    "\n",
    "#parse the current html page to get the src of the image\n",
    "\n",
    "soup_main_image = BeautifulSoup(content, 'lxml')\n",
    "results_image=soup_main_image.find('img',class_=\"main_image\",attrs={'src':True})\n",
    "\n",
    "#Image url\n",
    "\n",
    "featured_image_url=\"https://www.jpl.nasa.gov\"+results_image['src']"
   ]
  },
  {
   "cell_type": "code",
   "execution_count": 11,
   "metadata": {
    "collapsed": true
   },
   "outputs": [],
   "source": [
    "# Twitter API Credentials\n",
    "\n",
    "#all the values of api keys\n",
    "\n",
    "if os.path.isfile(\"apikey.csv\"):\n",
    "    key_df=pd.read_csv(\"apikey.csv\")\n",
    "    consumer_key=key_df.loc[0,'consumer_key']\n",
    "    consumer_secret=key_df.loc[0,'consumer_secret']\n",
    "    access_token=key_df.loc[0,'access_token']\n",
    "    access_token_secret=key_df.loc[0,'access_token_secret']\n",
    "\n",
    "else:\n",
    "    consumer_key=input(\"Enter the consumer_key: \")\n",
    "    consumer_secret=input(\"Enter the consumer_secret: \")\n",
    "    access_token=input(\"Enter the access_token: \")\n",
    "    access_token_secret=input(\"Enter the access_token_secret: \")\n",
    "    data = [{'consumer_key': consumer_key,'consumer_secret':consumer_secret,'access_token':access_token,'access_token_secret':access_token_secret}]\n",
    "    df = pd.DataFrame(data)\n",
    "    df.to_csv('apikey.csv', index=False)\n",
    "    print(\"file do not exist,creating..\")\n",
    "    \n",
    "\n",
    "# Use Tweepy to Authenticate our access\n",
    "auth = tweepy.OAuthHandler(consumer_key, consumer_secret)\n",
    "auth.set_access_token(access_token, access_token_secret)\n",
    "api = tweepy.API(auth, parser=tweepy.parsers.JSONParser())\n",
    "\n"
   ]
  },
  {
   "cell_type": "code",
   "execution_count": 12,
   "metadata": {},
   "outputs": [
    {
     "data": {
      "text/plain": [
       "'Sol 1862 (Nov 01, 2017), Sunny, high -30C/-22F, low -81C/-113F, pressure at 8.54 hPa, daylight 05:56-17:39'"
      ]
     },
     "execution_count": 12,
     "metadata": {},
     "output_type": "execute_result"
    }
   ],
   "source": [
    "#Step:3-get tweet mention from timeline for Mars Weather\n",
    "\n",
    "weather_tweets = api.user_timeline(\"@MarsWxReport\")\n",
    "\n",
    "mars_weather=weather_tweets[0]['text']\n",
    "mars_weather"
   ]
  },
  {
   "cell_type": "code",
   "execution_count": 50,
   "metadata": {},
   "outputs": [
    {
     "data": {
      "text/html": [
       "<div>\n",
       "<style>\n",
       "    .dataframe thead tr:only-child th {\n",
       "        text-align: right;\n",
       "    }\n",
       "\n",
       "    .dataframe thead th {\n",
       "        text-align: left;\n",
       "    }\n",
       "\n",
       "    .dataframe tbody tr th {\n",
       "        vertical-align: top;\n",
       "    }\n",
       "</style>\n",
       "<table border=\"1\" class=\"dataframe\">\n",
       "  <thead>\n",
       "    <tr style=\"text-align: right;\">\n",
       "      <th></th>\n",
       "      <th>Description</th>\n",
       "      <th>Value</th>\n",
       "    </tr>\n",
       "  </thead>\n",
       "  <tbody>\n",
       "  </tbody>\n",
       "</table>\n",
       "</div>"
      ],
      "text/plain": [
       "Empty DataFrame\n",
       "Columns: [Description, Value]\n",
       "Index: []"
      ]
     },
     "execution_count": 50,
     "metadata": {},
     "output_type": "execute_result"
    }
   ],
   "source": [
    "# Step 4: Mars Facts\n",
    "\n",
    "# define the dataframe\n",
    "\n",
    "mars_df=pd.DataFrame(columns=[\"Description\",\"Value\"])\n",
    "mars_df"
   ]
  },
  {
   "cell_type": "code",
   "execution_count": 51,
   "metadata": {
    "collapsed": true
   },
   "outputs": [],
   "source": [
    "#scrap the website for the Mars fact\n",
    "\n",
    "# URL of page to be scraped\n",
    "url_fact =\"https://space-facts.com/mars/\"\n",
    "\n",
    "# Retrieve page with the requests module\n",
    "response_facts = requests.get(url_fact)\n",
    "\n",
    "# Create BeautifulSoup object; parse with 'lxml'\n",
    "soup_fact = BeautifulSoup(response_facts.text, 'lxml')\n",
    "\n",
    "# results are returned as an iterable list\n",
    "table=soup_fact.find('table', id='tablepress-mars')"
   ]
  },
  {
   "cell_type": "code",
   "execution_count": 52,
   "metadata": {
    "collapsed": true
   },
   "outputs": [],
   "source": [
    "tr_tag=table.find_all('tr')\n"
   ]
  },
  {
   "cell_type": "code",
   "execution_count": 53,
   "metadata": {},
   "outputs": [],
   "source": [
    "for item in tr_tag:\n",
    "    \n",
    "    col1_value=item.find('td',class_='column-1').text\n",
    "    col2_value=item.find('td',class_='column-2').text \n",
    "    #Entering the values in dataframe\n",
    "    mars_df = mars_df.append([{\"Description\":col1_value,\n",
    "                              \"Value\":col2_value}],ignore_index=True)"
   ]
  },
  {
   "cell_type": "code",
   "execution_count": 58,
   "metadata": {},
   "outputs": [
    {
     "ename": "AttributeError",
     "evalue": "'Styler' object has no attribute 'style'",
     "output_type": "error",
     "traceback": [
      "\u001b[0;31m---------------------------------------------------------------------------\u001b[0m",
      "\u001b[0;31mAttributeError\u001b[0m                            Traceback (most recent call last)",
      "\u001b[0;32m<ipython-input-58-e99916478775>\u001b[0m in \u001b[0;36m<module>\u001b[0;34m()\u001b[0m\n\u001b[0;32m----> 1\u001b[0;31m mars_df=mars_df.style.set_properties(**{\n\u001b[0m\u001b[1;32m      2\u001b[0m                            \u001b[0;34m'border-style'\u001b[0m\u001b[0;34m:\u001b[0m \u001b[0;34m'double'\u001b[0m\u001b[0;34m,\u001b[0m\u001b[0;34m\u001b[0m\u001b[0m\n\u001b[1;32m      3\u001b[0m                            \u001b[0;34m'border-color'\u001b[0m\u001b[0;34m:\u001b[0m \u001b[0;34m'black'\u001b[0m\u001b[0;34m\u001b[0m\u001b[0m\n\u001b[1;32m      4\u001b[0m \u001b[0;34m\u001b[0m\u001b[0m\n\u001b[1;32m      5\u001b[0m                             })\n",
      "\u001b[0;31mAttributeError\u001b[0m: 'Styler' object has no attribute 'style'"
     ]
    }
   ],
   "source": [
    "mars_df=mars_df.style.set_properties(**{\n",
    "                           'border-style': 'double',\n",
    "                           'border-color': 'black'\n",
    "                            \n",
    "                            })"
   ]
  },
  {
   "cell_type": "code",
   "execution_count": 59,
   "metadata": {},
   "outputs": [
    {
     "data": {
      "text/html": [
       "<style  type=\"text/css\" >\n",
       "    #T_1046bfb6_c24b_11e7_8124_784f4397e2e2row0_col0 {\n",
       "            border-style:  double;\n",
       "            border-color:  black;\n",
       "            border-style:  double;\n",
       "            border-color:  black;\n",
       "        }    #T_1046bfb6_c24b_11e7_8124_784f4397e2e2row0_col1 {\n",
       "            border-style:  double;\n",
       "            border-color:  black;\n",
       "            border-style:  double;\n",
       "            border-color:  black;\n",
       "        }    #T_1046bfb6_c24b_11e7_8124_784f4397e2e2row1_col0 {\n",
       "            border-style:  double;\n",
       "            border-color:  black;\n",
       "            border-style:  double;\n",
       "            border-color:  black;\n",
       "        }    #T_1046bfb6_c24b_11e7_8124_784f4397e2e2row1_col1 {\n",
       "            border-style:  double;\n",
       "            border-color:  black;\n",
       "            border-style:  double;\n",
       "            border-color:  black;\n",
       "        }    #T_1046bfb6_c24b_11e7_8124_784f4397e2e2row2_col0 {\n",
       "            border-style:  double;\n",
       "            border-color:  black;\n",
       "            border-style:  double;\n",
       "            border-color:  black;\n",
       "        }    #T_1046bfb6_c24b_11e7_8124_784f4397e2e2row2_col1 {\n",
       "            border-style:  double;\n",
       "            border-color:  black;\n",
       "            border-style:  double;\n",
       "            border-color:  black;\n",
       "        }    #T_1046bfb6_c24b_11e7_8124_784f4397e2e2row3_col0 {\n",
       "            border-style:  double;\n",
       "            border-color:  black;\n",
       "            border-style:  double;\n",
       "            border-color:  black;\n",
       "        }    #T_1046bfb6_c24b_11e7_8124_784f4397e2e2row3_col1 {\n",
       "            border-style:  double;\n",
       "            border-color:  black;\n",
       "            border-style:  double;\n",
       "            border-color:  black;\n",
       "        }    #T_1046bfb6_c24b_11e7_8124_784f4397e2e2row4_col0 {\n",
       "            border-style:  double;\n",
       "            border-color:  black;\n",
       "            border-style:  double;\n",
       "            border-color:  black;\n",
       "        }    #T_1046bfb6_c24b_11e7_8124_784f4397e2e2row4_col1 {\n",
       "            border-style:  double;\n",
       "            border-color:  black;\n",
       "            border-style:  double;\n",
       "            border-color:  black;\n",
       "        }    #T_1046bfb6_c24b_11e7_8124_784f4397e2e2row5_col0 {\n",
       "            border-style:  double;\n",
       "            border-color:  black;\n",
       "            border-style:  double;\n",
       "            border-color:  black;\n",
       "        }    #T_1046bfb6_c24b_11e7_8124_784f4397e2e2row5_col1 {\n",
       "            border-style:  double;\n",
       "            border-color:  black;\n",
       "            border-style:  double;\n",
       "            border-color:  black;\n",
       "        }    #T_1046bfb6_c24b_11e7_8124_784f4397e2e2row6_col0 {\n",
       "            border-style:  double;\n",
       "            border-color:  black;\n",
       "            border-style:  double;\n",
       "            border-color:  black;\n",
       "        }    #T_1046bfb6_c24b_11e7_8124_784f4397e2e2row6_col1 {\n",
       "            border-style:  double;\n",
       "            border-color:  black;\n",
       "            border-style:  double;\n",
       "            border-color:  black;\n",
       "        }    #T_1046bfb6_c24b_11e7_8124_784f4397e2e2row7_col0 {\n",
       "            border-style:  double;\n",
       "            border-color:  black;\n",
       "            border-style:  double;\n",
       "            border-color:  black;\n",
       "        }    #T_1046bfb6_c24b_11e7_8124_784f4397e2e2row7_col1 {\n",
       "            border-style:  double;\n",
       "            border-color:  black;\n",
       "            border-style:  double;\n",
       "            border-color:  black;\n",
       "        }    #T_1046bfb6_c24b_11e7_8124_784f4397e2e2row8_col0 {\n",
       "            border-style:  double;\n",
       "            border-color:  black;\n",
       "            border-style:  double;\n",
       "            border-color:  black;\n",
       "        }    #T_1046bfb6_c24b_11e7_8124_784f4397e2e2row8_col1 {\n",
       "            border-style:  double;\n",
       "            border-color:  black;\n",
       "            border-style:  double;\n",
       "            border-color:  black;\n",
       "        }</style>  \n",
       "<table id=\"T_1046bfb6_c24b_11e7_8124_784f4397e2e2\" > \n",
       "<thead>    <tr> \n",
       "        <th class=\"blank level0\" ></th> \n",
       "        <th class=\"col_heading level0 col0\" >Description</th> \n",
       "        <th class=\"col_heading level0 col1\" >Value</th> \n",
       "    </tr></thead> \n",
       "<tbody>    <tr> \n",
       "        <th id=\"T_1046bfb6_c24b_11e7_8124_784f4397e2e2level0_row0\" class=\"row_heading level0 row0\" >0</th> \n",
       "        <td id=\"T_1046bfb6_c24b_11e7_8124_784f4397e2e2row0_col0\" class=\"data row0 col0\" >Equatorial Diameter:</td> \n",
       "        <td id=\"T_1046bfb6_c24b_11e7_8124_784f4397e2e2row0_col1\" class=\"data row0 col1\" >6,792 km\n",
       "</td> \n",
       "    </tr>    <tr> \n",
       "        <th id=\"T_1046bfb6_c24b_11e7_8124_784f4397e2e2level0_row1\" class=\"row_heading level0 row1\" >1</th> \n",
       "        <td id=\"T_1046bfb6_c24b_11e7_8124_784f4397e2e2row1_col0\" class=\"data row1 col0\" >Polar Diameter:</td> \n",
       "        <td id=\"T_1046bfb6_c24b_11e7_8124_784f4397e2e2row1_col1\" class=\"data row1 col1\" >6,752 km\n",
       "</td> \n",
       "    </tr>    <tr> \n",
       "        <th id=\"T_1046bfb6_c24b_11e7_8124_784f4397e2e2level0_row2\" class=\"row_heading level0 row2\" >2</th> \n",
       "        <td id=\"T_1046bfb6_c24b_11e7_8124_784f4397e2e2row2_col0\" class=\"data row2 col0\" >Mass:</td> \n",
       "        <td id=\"T_1046bfb6_c24b_11e7_8124_784f4397e2e2row2_col1\" class=\"data row2 col1\" >6.42 x 10^23 kg (10.7% Earth)</td> \n",
       "    </tr>    <tr> \n",
       "        <th id=\"T_1046bfb6_c24b_11e7_8124_784f4397e2e2level0_row3\" class=\"row_heading level0 row3\" >3</th> \n",
       "        <td id=\"T_1046bfb6_c24b_11e7_8124_784f4397e2e2row3_col0\" class=\"data row3 col0\" >Moons:</td> \n",
       "        <td id=\"T_1046bfb6_c24b_11e7_8124_784f4397e2e2row3_col1\" class=\"data row3 col1\" >2 (Phobos & Deimos)</td> \n",
       "    </tr>    <tr> \n",
       "        <th id=\"T_1046bfb6_c24b_11e7_8124_784f4397e2e2level0_row4\" class=\"row_heading level0 row4\" >4</th> \n",
       "        <td id=\"T_1046bfb6_c24b_11e7_8124_784f4397e2e2row4_col0\" class=\"data row4 col0\" >Orbit Distance:</td> \n",
       "        <td id=\"T_1046bfb6_c24b_11e7_8124_784f4397e2e2row4_col1\" class=\"data row4 col1\" >227,943,824 km (1.52 AU)</td> \n",
       "    </tr>    <tr> \n",
       "        <th id=\"T_1046bfb6_c24b_11e7_8124_784f4397e2e2level0_row5\" class=\"row_heading level0 row5\" >5</th> \n",
       "        <td id=\"T_1046bfb6_c24b_11e7_8124_784f4397e2e2row5_col0\" class=\"data row5 col0\" >Orbit Period:</td> \n",
       "        <td id=\"T_1046bfb6_c24b_11e7_8124_784f4397e2e2row5_col1\" class=\"data row5 col1\" >687 days (1.9 years)\n",
       "</td> \n",
       "    </tr>    <tr> \n",
       "        <th id=\"T_1046bfb6_c24b_11e7_8124_784f4397e2e2level0_row6\" class=\"row_heading level0 row6\" >6</th> \n",
       "        <td id=\"T_1046bfb6_c24b_11e7_8124_784f4397e2e2row6_col0\" class=\"data row6 col0\" >Surface Temperature: </td> \n",
       "        <td id=\"T_1046bfb6_c24b_11e7_8124_784f4397e2e2row6_col1\" class=\"data row6 col1\" >-153 to 20 °C</td> \n",
       "    </tr>    <tr> \n",
       "        <th id=\"T_1046bfb6_c24b_11e7_8124_784f4397e2e2level0_row7\" class=\"row_heading level0 row7\" >7</th> \n",
       "        <td id=\"T_1046bfb6_c24b_11e7_8124_784f4397e2e2row7_col0\" class=\"data row7 col0\" >First Record:</td> \n",
       "        <td id=\"T_1046bfb6_c24b_11e7_8124_784f4397e2e2row7_col1\" class=\"data row7 col1\" >2nd millennium BC</td> \n",
       "    </tr>    <tr> \n",
       "        <th id=\"T_1046bfb6_c24b_11e7_8124_784f4397e2e2level0_row8\" class=\"row_heading level0 row8\" >8</th> \n",
       "        <td id=\"T_1046bfb6_c24b_11e7_8124_784f4397e2e2row8_col0\" class=\"data row8 col0\" >Recorded By:</td> \n",
       "        <td id=\"T_1046bfb6_c24b_11e7_8124_784f4397e2e2row8_col1\" class=\"data row8 col1\" >Egyptian astronomers</td> \n",
       "    </tr></tbody> \n",
       "</table> "
      ],
      "text/plain": [
       "<pandas.io.formats.style.Styler at 0x11064a198>"
      ]
     },
     "execution_count": 59,
     "metadata": {},
     "output_type": "execute_result"
    }
   ],
   "source": [
    "mars_df"
   ]
  },
  {
   "cell_type": "code",
   "execution_count": 36,
   "metadata": {},
   "outputs": [],
   "source": [
    "fact_table=mars_df.to_html(index=False)"
   ]
  },
  {
   "cell_type": "code",
   "execution_count": 19,
   "metadata": {},
   "outputs": [
    {
     "name": "stdout",
     "output_type": "stream",
     "text": [
      "<table border=\"1\" class=\"dataframe\">\n",
      "  <thead>\n",
      "    <tr style=\"text-align: right;\">\n",
      "      <th>fact</th>\n",
      "      <th>value</th>\n",
      "    </tr>\n",
      "  </thead>\n",
      "  <tbody>\n",
      "    <tr>\n",
      "      <td>Equatorial Diameter:</td>\n",
      "      <td>6,792 km\\n</td>\n",
      "    </tr>\n",
      "    <tr>\n",
      "      <td>Polar Diameter:</td>\n",
      "      <td>6,752 km\\n</td>\n",
      "    </tr>\n",
      "    <tr>\n",
      "      <td>Mass:</td>\n",
      "      <td>6.42 x 10^23 kg (10.7% Earth)</td>\n",
      "    </tr>\n",
      "    <tr>\n",
      "      <td>Moons:</td>\n",
      "      <td>2 (Phobos &amp; Deimos)</td>\n",
      "    </tr>\n",
      "    <tr>\n",
      "      <td>Orbit Distance:</td>\n",
      "      <td>227,943,824 km (1.52 AU)</td>\n",
      "    </tr>\n",
      "    <tr>\n",
      "      <td>Orbit Period:</td>\n",
      "      <td>687 days (1.9 years)\\n</td>\n",
      "    </tr>\n",
      "    <tr>\n",
      "      <td>Surface Temperature:</td>\n",
      "      <td>-153 to 20 °C</td>\n",
      "    </tr>\n",
      "    <tr>\n",
      "      <td>First Record:</td>\n",
      "      <td>2nd millennium BC</td>\n",
      "    </tr>\n",
      "    <tr>\n",
      "      <td>Recorded By:</td>\n",
      "      <td>Egyptian astronomers</td>\n",
      "    </tr>\n",
      "  </tbody>\n",
      "</table>\n"
     ]
    }
   ],
   "source": [
    "print(fact_table)"
   ]
  },
  {
   "cell_type": "code",
   "execution_count": 20,
   "metadata": {
    "collapsed": true
   },
   "outputs": [],
   "source": [
    "#scrap the website for the Mars Hemisphere\n",
    "\n",
    "list=[]\n",
    "hemisphere_urls={}\n",
    "hemisphere_image_urls=[]\n",
    "\n",
    "# URL of page to be scraped\n",
    "\n",
    "url_hemis =\"https://astrogeology.usgs.gov/search/results?q=hemisphere+enhanced&k1=target&v1=Mars\"\n",
    "\n",
    "# Retrieve page with the requests module\n",
    "response_hemis = requests.get(url_hemis)\n",
    "\n",
    "# Create BeautifulSoup object; parse with 'lxml'\n",
    "soup_hemis = BeautifulSoup(response_hemis.text, 'lxml')\n",
    "\n",
    "# results are returned as an iterable list\n",
    "links=soup_hemis.find_all('a', class_='item product-item',attrs={'href':True})\n",
    "\n",
    "for link in links:\n",
    "    \n",
    "    list.append(\"https://astrogeology.usgs.gov\"+link['href'])\n"
   ]
  },
  {
   "cell_type": "code",
   "execution_count": 21,
   "metadata": {},
   "outputs": [
    {
     "data": {
      "text/plain": [
       "['https://astrogeology.usgs.gov/search/map/Mars/Viking/cerberus_enhanced',\n",
       " 'https://astrogeology.usgs.gov/search/map/Mars/Viking/schiaparelli_enhanced',\n",
       " 'https://astrogeology.usgs.gov/search/map/Mars/Viking/syrtis_major_enhanced',\n",
       " 'https://astrogeology.usgs.gov/search/map/Mars/Viking/valles_marineris_enhanced']"
      ]
     },
     "execution_count": 21,
     "metadata": {},
     "output_type": "execute_result"
    }
   ],
   "source": [
    "list"
   ]
  },
  {
   "cell_type": "code",
   "execution_count": 22,
   "metadata": {
    "collapsed": true
   },
   "outputs": [],
   "source": [
    "for item in list:\n",
    "    \n",
    "    # Retrieve page with the requests module\n",
    "    response_list = requests.get(item)\n",
    "\n",
    "    # Create BeautifulSoup object; parse with 'lxml'\n",
    "    soup_list = BeautifulSoup(response_list.text, 'lxml')\n",
    "\n",
    "    # results are returned as an iterable list\n",
    "    image_hemis_url=soup_list.find('img', class_='wide-image',attrs={'src':True})\n",
    "    hemis_url=\"https://astrogeology.usgs.gov\"+image_hemis_url['src']\n",
    "    title_of_url=soup_list.find('h2', class_='title').text\n",
    "    hemisphere_urls={\"title\":title_of_url,\"img_url\":hemis_url}\n",
    "    hemisphere_image_urls.append(hemisphere_urls)"
   ]
  },
  {
   "cell_type": "code",
   "execution_count": 23,
   "metadata": {},
   "outputs": [
    {
     "data": {
      "text/plain": [
       "[{'img_url': 'https://astrogeology.usgs.gov/cache/images/cfa62af2557222a02478f1fcd781d445_cerberus_enhanced.tif_full.jpg',\n",
       "  'title': 'Cerberus Hemisphere Enhanced'},\n",
       " {'img_url': 'https://astrogeology.usgs.gov/cache/images/3cdd1cbf5e0813bba925c9030d13b62e_schiaparelli_enhanced.tif_full.jpg',\n",
       "  'title': 'Schiaparelli Hemisphere Enhanced'},\n",
       " {'img_url': 'https://astrogeology.usgs.gov/cache/images/ae209b4e408bb6c3e67b6af38168cf28_syrtis_major_enhanced.tif_full.jpg',\n",
       "  'title': 'Syrtis Major Hemisphere Enhanced'},\n",
       " {'img_url': 'https://astrogeology.usgs.gov/cache/images/7cf2da4bf549ed01c17f206327be4db7_valles_marineris_enhanced.tif_full.jpg',\n",
       "  'title': 'Valles Marineris Hemisphere Enhanced'}]"
      ]
     },
     "execution_count": 23,
     "metadata": {},
     "output_type": "execute_result"
    }
   ],
   "source": [
    "hemisphere_image_urls"
   ]
  },
  {
   "cell_type": "code",
   "execution_count": null,
   "metadata": {
    "collapsed": true
   },
   "outputs": [],
   "source": []
  }
 ],
 "metadata": {
  "kernelspec": {
   "display_name": "Python [conda env:PythonData]",
   "language": "python",
   "name": "conda-env-PythonData-py"
  },
  "language_info": {
   "codemirror_mode": {
    "name": "ipython",
    "version": 3
   },
   "file_extension": ".py",
   "mimetype": "text/x-python",
   "name": "python",
   "nbconvert_exporter": "python",
   "pygments_lexer": "ipython3",
   "version": "3.6.1"
  }
 },
 "nbformat": 4,
 "nbformat_minor": 2
}
