{
 "cells": [
  {
   "cell_type": "markdown",
   "metadata": {},
   "source": [
    "# Summary\n",
    "\n",
    "1. There are 575 players who made 780 purchases. Total revenue generated is $2,286.33\n",
    "2. Of the total players, 81% are male players who made purchase of $1867.68\n",
    "3. 45% of the players are of age between 20-24 years which contributed ~1000$ towords the total revenues.\n",
    "4. \"Undirrala66\" is the top spender\n",
    "5. \"Betrayal, Whisper of Grieving Widows\" is the most favorite game\n",
    "6. \"Retribution Axe\" is the most revenue generated game\n"
   ]
  },
  {
   "cell_type": "code",
   "execution_count": 21,
   "metadata": {
    "collapsed": true
   },
   "outputs": [],
   "source": [
    "import pandas as pd\n",
    "import numpy as nb"
   ]
  },
  {
   "cell_type": "code",
   "execution_count": 22,
   "metadata": {
    "collapsed": true
   },
   "outputs": [],
   "source": [
    "file_read=pd.read_json(\"HeroesOfPymoli/raw_data/purchase_data.json\")"
   ]
  },
  {
   "cell_type": "markdown",
   "metadata": {},
   "source": [
    "**Player Count**"
   ]
  },
  {
   "cell_type": "code",
   "execution_count": 23,
   "metadata": {},
   "outputs": [
    {
     "data": {
      "text/html": [
       "<div>\n",
       "<style>\n",
       "    .dataframe thead tr:only-child th {\n",
       "        text-align: right;\n",
       "    }\n",
       "\n",
       "    .dataframe thead th {\n",
       "        text-align: left;\n",
       "    }\n",
       "\n",
       "    .dataframe tbody tr th {\n",
       "        vertical-align: top;\n",
       "    }\n",
       "</style>\n",
       "<table border=\"1\" class=\"dataframe\">\n",
       "  <thead>\n",
       "    <tr style=\"text-align: right;\">\n",
       "      <th></th>\n",
       "      <th>Total Player</th>\n",
       "    </tr>\n",
       "  </thead>\n",
       "  <tbody>\n",
       "    <tr>\n",
       "      <th>0</th>\n",
       "      <td>573</td>\n",
       "    </tr>\n",
       "  </tbody>\n",
       "</table>\n",
       "</div>"
      ],
      "text/plain": [
       "   Total Player\n",
       "0           573"
      ]
     },
     "execution_count": 23,
     "metadata": {},
     "output_type": "execute_result"
    }
   ],
   "source": [
    "# Total Number of Plays\n",
    "Total_player=file_read[\"SN\"].unique()\n",
    "Total_counts=Total_player.shape[0]\n",
    "Total_player_count=pd.DataFrame(pd.Series(Total_player.shape[0]))\n",
    "Total_player_count.columns=[\"Total Player\"]\n",
    "Total_player_count\n"
   ]
  },
  {
   "cell_type": "markdown",
   "metadata": {},
   "source": [
    " **Purchasing Analysis (Total)**"
   ]
  },
  {
   "cell_type": "code",
   "execution_count": 24,
   "metadata": {},
   "outputs": [
    {
     "data": {
      "text/plain": [
       "179"
      ]
     },
     "execution_count": 24,
     "metadata": {},
     "output_type": "execute_result"
    }
   ],
   "source": [
    "# Number of Unique Items\n",
    "\n",
    "Unique_items=pd.Series(file_read[\"Item Name\"].unique()).count()\n",
    "Unique_items"
   ]
  },
  {
   "cell_type": "code",
   "execution_count": 25,
   "metadata": {
    "collapsed": true
   },
   "outputs": [],
   "source": [
    "# Average Purchase Price\n",
    "Average_price=file_read[\"Price\"].mean()\n",
    "Average_price=round(Average_price,2)"
   ]
  },
  {
   "cell_type": "code",
   "execution_count": 26,
   "metadata": {},
   "outputs": [
    {
     "data": {
      "text/plain": [
       "780"
      ]
     },
     "execution_count": 26,
     "metadata": {},
     "output_type": "execute_result"
    }
   ],
   "source": [
    "# Total Number of Purchases\n",
    "Total_Number_Purchases=file_read[\"Price\"].count()\n",
    "Total_Number_Purchases"
   ]
  },
  {
   "cell_type": "code",
   "execution_count": 27,
   "metadata": {},
   "outputs": [],
   "source": [
    "# Total Revenue\n",
    "Total_Revenue=file_read[\"Price\"].sum()\n",
    "Total_Revenue=round(Total_Revenue,2)"
   ]
  },
  {
   "cell_type": "code",
   "execution_count": 28,
   "metadata": {},
   "outputs": [
    {
     "data": {
      "text/html": [
       "<div>\n",
       "<style>\n",
       "    .dataframe thead tr:only-child th {\n",
       "        text-align: right;\n",
       "    }\n",
       "\n",
       "    .dataframe thead th {\n",
       "        text-align: left;\n",
       "    }\n",
       "\n",
       "    .dataframe tbody tr th {\n",
       "        vertical-align: top;\n",
       "    }\n",
       "</style>\n",
       "<table border=\"1\" class=\"dataframe\">\n",
       "  <thead>\n",
       "    <tr style=\"text-align: right;\">\n",
       "      <th></th>\n",
       "      <th>Avg Price</th>\n",
       "      <th>No. Purchases</th>\n",
       "      <th>Total Revenue</th>\n",
       "      <th>Unique Items</th>\n",
       "    </tr>\n",
       "  </thead>\n",
       "  <tbody>\n",
       "    <tr>\n",
       "      <th>0</th>\n",
       "      <td>$2.93</td>\n",
       "      <td>780.0</td>\n",
       "      <td>$2,286.33</td>\n",
       "      <td>179.0</td>\n",
       "    </tr>\n",
       "  </tbody>\n",
       "</table>\n",
       "</div>"
      ],
      "text/plain": [
       "  Avg Price  No. Purchases Total Revenue  Unique Items\n",
       "0     $2.93          780.0     $2,286.33         179.0"
      ]
     },
     "execution_count": 28,
     "metadata": {},
     "output_type": "execute_result"
    }
   ],
   "source": [
    "Analysis=pd.DataFrame(pd.Series({\"Unique Items\":Unique_items,\"Avg Price\":Average_price,\"No. Purchases\":Total_Number_Purchases,\n",
    "                \"Total Revenue\":Total_Revenue})).transpose()\n",
    "\n",
    "Analysis[\"Avg Price\"]=Analysis[\"Avg Price\"].map('${:,.2f}'.format)\n",
    "Analysis[\"Total Revenue\"]=Analysis[\"Total Revenue\"].map('${:,.2f}'.format)\n",
    "Analysis"
   ]
  },
  {
   "cell_type": "markdown",
   "metadata": {},
   "source": [
    "**Gender Demographics**\n",
    "\n",
    "\n",
    "\n"
   ]
  },
  {
   "cell_type": "code",
   "execution_count": 29,
   "metadata": {},
   "outputs": [
    {
     "ename": "NameError",
     "evalue": "name 'male_count' is not defined",
     "output_type": "error",
     "traceback": [
      "\u001b[0;31m---------------------------------------------------------------------------\u001b[0m",
      "\u001b[0;31mNameError\u001b[0m                                 Traceback (most recent call last)",
      "\u001b[0;32m<ipython-input-29-f5d948f3c44a>\u001b[0m in \u001b[0;36m<module>\u001b[0;34m()\u001b[0m\n\u001b[1;32m     17\u001b[0m \u001b[0mOtherplayer_count_percent\u001b[0m\u001b[0;34m=\u001b[0m\u001b[0mround\u001b[0m\u001b[0;34m(\u001b[0m\u001b[0mOtherplayer_count_percent\u001b[0m\u001b[0;34m,\u001b[0m\u001b[0;36m2\u001b[0m\u001b[0;34m)\u001b[0m\u001b[0;34m\u001b[0m\u001b[0m\n\u001b[1;32m     18\u001b[0m \u001b[0;34m\u001b[0m\u001b[0m\n\u001b[0;32m---> 19\u001b[0;31m Demographics_Analysis=pd.DataFrame({\"Total Count\":[male_count,Female_count,Otherplayer_count],\n\u001b[0m\u001b[1;32m     20\u001b[0m                                     \u001b[0;34m\"Count Percent\"\u001b[0m\u001b[0;34m:\u001b[0m\u001b[0;34m[\u001b[0m\u001b[0mmale_count_percent\u001b[0m\u001b[0;34m,\u001b[0m\u001b[0mFemale_count_percent\u001b[0m\u001b[0;34m,\u001b[0m\u001b[0mOtherplayer_count_percent\u001b[0m\u001b[0;34m]\u001b[0m\u001b[0;34m\u001b[0m\u001b[0m\n\u001b[1;32m     21\u001b[0m                                 })\n",
      "\u001b[0;31mNameError\u001b[0m: name 'male_count' is not defined"
     ]
    }
   ],
   "source": [
    "\n",
    "#Percentage and Count of Male Player\n",
    "maleplayer=file_read.loc[file_read[\"Gender\"]==\"Male\"]\n",
    "male_unique=maleplayer[\"SN\"].unique().shape[0]\n",
    "male_count_percent=(male_unique/Total_counts)*100\n",
    "male_count_percent=round(male_count_percent,2)\n",
    "\n",
    "#Percentage and Count of Female Players\n",
    "Femaleplayer=file_read.loc[file_read[\"Gender\"]==\"Female\"]\n",
    "Female_unique=Femaleplayer[\"SN\"].unique().shape[0]\n",
    "Female_count_percent=(Female_unique/Total_counts)*100\n",
    "Female_count_percent=round(Female_count_percent,2)\n",
    "#Percentage and Count of Other / Non-Disclosed\n",
    "Otherplayer=file_read.loc[file_read[\"Gender\"]=='Other / Non-Disclosed']\n",
    "Otherplayer_unique=Otherplayer[\"SN\"].unique().shape[0]\n",
    "Otherplayer_count_percent=(Otherplayer_unique/Total_counts)*100\n",
    "Otherplayer_count_percent=round(Otherplayer_count_percent,2)\n",
    "\n",
    "Demographics_Analysis=pd.DataFrame({\"Total Count\":[male_count,Female_count,Otherplayer_count],\n",
    "                                    \"Count Percent\":[male_count_percent,Female_count_percent,Otherplayer_count_percent]\n",
    "                                })\n",
    "\n",
    "Demographics_Analysis.rename(index={0:'Male',1:'Female',2:'Others'},inplace=True)\n",
    "\n",
    "Demographics_Analysis[\"Count Percent\"]=Demographics_Analysis[\"Count Percent\"].values\n",
    "\n",
    "\n",
    "Demographics_Analysis\n",
    "\n"
   ]
  },
  {
   "cell_type": "markdown",
   "metadata": {},
   "source": [
    "# **Purchasing Analysis (Gender)** \n",
    "\n",
    "The below each broken by gender:\n",
    "\n",
    "*1.Male player*\n",
    "\n",
    "*2.Female player*\n",
    "\n",
    "*3.Other player*"
   ]
  },
  {
   "cell_type": "code",
   "execution_count": null,
   "metadata": {},
   "outputs": [],
   "source": [
    "#Purchase Count\n",
    "male_count\n",
    "Female_count\n",
    "Otherplayer_count\n",
    "\n",
    "#Average Purchase Price\n",
    "avg_male_pr=round(maleplayer[\"Price\"].mean(),2)\n",
    "\n",
    "avg_female_pr=round(Femaleplayer[\"Price\"].mean(),2)\n",
    "\n",
    "avg_other_pr=round(Otherplayer[\"Price\"].mean(),2)\n",
    "\n",
    "#Total Purchase Value\n",
    "\n",
    "Total_Revenue_male=round(maleplayer[\"Price\"].sum(),2)\n",
    "\n",
    "Total_Revenue_Female=round(Femaleplayer[\"Price\"].sum(),2)\n",
    "\n",
    "Total_Revenue_Otherplayer=round(Otherplayer[\"Price\"].sum(),2)\n",
    "\n",
    "#Normalized Totals\n",
    "\n",
    "Total_male_normalized=round((Total_Revenue_male/male_count),2)\n",
    "Total_female_normalized=round(Total_Revenue_Female/Female_count,2)\n",
    "Total_Otherplayer_normalized=round(Total_Revenue_Otherplayer/Otherplayer_count,2)\n",
    "\n",
    "\n",
    "Purchase_Analysis=pd.DataFrame({\"Purchase Count\":[male_count,Female_count,Otherplayer_count],\n",
    "                                \"Average Purchase\":[avg_male_pr,avg_female_pr,avg_other_pr],\n",
    "                                \"Total Purchase\":[Total_Revenue_male,Total_Revenue_Female,Total_Revenue_Otherplayer],\n",
    "                                \"Normalized Totals\":[Total_male_normalized,Total_female_normalized,Total_Otherplayer_normalized]\n",
    "                                })\n",
    "\n",
    "Purchase_Analysis.rename(index={0:'Male',1:'Female',2:'Others'},inplace=True)\n",
    "Purchase_Analysis.index.name=\"Gender\"\n",
    "\n",
    "\n",
    "Purchase_Analysis[\"Average Purchase\"]=Purchase_Analysis[\"Average Purchase\"].map('${:,.2f}'.format)\n",
    "Purchase_Analysis[\"Total Purchase\"]=Purchase_Analysis[\"Total Purchase\"].map('${:,.2f}'.format)\n",
    "Purchase_Analysis[\"Normalized Totals\"]=Purchase_Analysis[\"Normalized Totals\"].map('${:,.2f}'.format)\n",
    "\n",
    "Purchase_Analysis"
   ]
  },
  {
   "cell_type": "markdown",
   "metadata": {},
   "source": [
    "# **Age Demographics**\n",
    "\n",
    "* The below each broken into bins of 4 years (i.e. &lt;10, 10-14, 15-19, etc.) \n",
    "  * Purchase Count\n",
    "  * Percent\n"
   ]
  },
  {
   "cell_type": "code",
   "execution_count": null,
   "metadata": {},
   "outputs": [],
   "source": [
    "# age under 10\n",
    "Age_1=file_read.loc[file_read[\"Age\"]<10]\n",
    "\n",
    "total_age1_player=Age_1[\"SN\"].unique()\n",
    "total_age1_player_count=total_age1_player.shape[0]\n",
    "\n",
    "Total_percent_1= (total_age1_player_count/Total_counts)*100\n",
    "Total_percent_1=round(Total_percent_1,2)\n",
    "Total_percent_1\n",
    "\n",
    "\n",
    "# age between 10 to 15\n",
    "Age_2=file_read.loc[(file_read[\"Age\"]>=10) & (file_read[\"Age\"]<15)]\n",
    "\n",
    "total_age2_player=Age_2[\"SN\"].unique()\n",
    "total_age2_player_count=total_age2_player.shape[0]\n",
    "\n",
    "Total_percent_2= (total_age2_player_count/Total_counts)*100\n",
    "Total_percent_2=round(Total_percent_2,2)\n",
    "\n",
    "\n",
    "# age between 15 to 20\n",
    "Age_3=file_read.loc[(file_read[\"Age\"]>=15) & (file_read[\"Age\"]<20)]\n",
    "\n",
    "total_age3_player=Age_3[\"SN\"].unique()\n",
    "total_age3_player_count=total_age3_player.shape[0]\n",
    "\n",
    "Total_percent_3= (total_age3_player_count/Total_counts)*100\n",
    "Total_percent_3=round(Total_percent_3,2)\n",
    "\n",
    "\n",
    "\n",
    "# age between 20 to 25\n",
    "Age_4=file_read.loc[(file_read[\"Age\"]>=20) & (file_read[\"Age\"]<25)]\n",
    "\n",
    "total_age4_player=Age_4[\"SN\"].unique()\n",
    "total_age4_player_count=total_age4_player.shape[0]\n",
    "\n",
    "Total_percent_4= (total_age4_player_count/Total_counts)*100\n",
    "Total_percent_4=round(Total_percent_4,2)\n",
    "\n",
    "\n",
    "# age between 25 to 30\n",
    "Age_5=file_read.loc[(file_read[\"Age\"]>=25) & (file_read[\"Age\"]<30)]\n",
    "\n",
    "total_age5_player=Age_5[\"SN\"].unique()\n",
    "total_age5_player_count=total_age5_player.shape[0]\n",
    "\n",
    "Total_percent_5= (total_age5_player_count/Total_counts)*100\n",
    "Total_percent_5=round(Total_percent_5,2)\n",
    "\n",
    "# age between 30 to 35\n",
    "Age_6=file_read.loc[(file_read[\"Age\"]>=30) & (file_read[\"Age\"]<35)]\n",
    "\n",
    "total_age6_player=Age_6[\"SN\"].unique()\n",
    "total_age6_player_count=total_age6_player.shape[0]\n",
    "\n",
    "Total_percent_6= (total_age6_player_count/Total_counts)*100\n",
    "Total_percent_6=round(Total_percent_6,2)\n",
    "\n",
    "\n",
    "# age between 35 to 40\n",
    "Age_7=file_read.loc[(file_read[\"Age\"]>=35) & (file_read[\"Age\"]<40)]\n",
    "\n",
    "total_age7_player=Age_7[\"SN\"].unique()\n",
    "total_age7_player_count=total_age7_player.shape[0]\n",
    "\n",
    "Total_percent_7= (total_age7_player_count/Total_counts)*100\n",
    "Total_percent_7=round(Total_percent_7,2)\n",
    "\n",
    "# age above 40\n",
    "Age_8=file_read.loc[file_read[\"Age\"]>=40]\n",
    "\n",
    "total_age8_player=Age_8[\"SN\"].unique()\n",
    "total_age8_player_count=total_age8_player.shape[0]\n",
    "\n",
    "Total_percent_8= (total_age8_player_count/Total_counts)*100\n",
    "Total_percent_8=round(Total_percent_8,2)\n",
    "\n",
    "\n",
    "Age_Demographics=pd.DataFrame({\"Total Count\":[total_age1_player_count,total_age2_player_count,total_age3_player_count,total_age4_player_count,total_age5_player_count,total_age6_player_count,total_age7_player_count,total_age8_player_count],\n",
    "                               \n",
    "                               \"Percent Player\":[Total_percent_1,Total_percent_2,Total_percent_3,Total_percent_4,Total_percent_5,Total_percent_6,Total_percent_7,Total_percent_8]\n",
    "                              })\n",
    "\n",
    "Age_Demographics.rename(index={0:'<10',1:'10-14',2:'15-19',3:'20-24',4:'25-29',5:'30-34',6:'35-39',7:'40+'},inplace=True)\n",
    "\n",
    "Age_Demographics\n",
    "\n"
   ]
  },
  {
   "cell_type": "markdown",
   "metadata": {},
   "source": [
    "# **Age Demographics**\n",
    "\n",
    "*The below each broken into bins of 4 years (i.e. <10, 10-14, 15-19, etc.)*\n",
    "\n",
    "Purchase Count\n",
    "Average Purchase Price\n",
    "Total Purchase Value\n",
    "Normalized Totals"
   ]
  },
  {
   "cell_type": "code",
   "execution_count": null,
   "metadata": {},
   "outputs": [],
   "source": [
    "# age under 10\n",
    "\n",
    "\n",
    "\n",
    "Avg_price_1=round(Age_1[\"Price\"].mean(),2)\n",
    "\n",
    "Total_Purchase_1=round(Age_1[\"Price\"].sum(),2)\n",
    "\n",
    "Normalized_total_age1=round(Total_Purchase_1/total_age1_player_count,2)\n",
    "\n",
    "\n",
    "# age between 10 to 15\n",
    "\n",
    "\n",
    "\n",
    "\n",
    "Avg_price_2=Age_2[\"Price\"].mean()\n",
    "\n",
    "Total_Purchase_2=Age_2[\"Price\"].sum()\n",
    "\n",
    "Normalized_total_age2=round(Total_Purchase_2/total_age2_player_count,2)\n",
    "\n",
    "\n",
    "# age between 15 to 20\n",
    "\n",
    "\n",
    "\n",
    "Avg_price_3=round(Age_3[\"Price\"].mean(),2)\n",
    "\n",
    "Total_Purchase_3=round(Age_3[\"Price\"].sum(),2)\n",
    "\n",
    "Normalized_total_age3=round(Total_Purchase_3/total_age3_player_count,2)\n",
    "\n",
    "# age between 20 to 25\n",
    "\n",
    "\n",
    "Avg_price_4=round(Age_4[\"Price\"].mean(),2)\n",
    "\n",
    "Total_Purchase_4=round(Age_4[\"Price\"].sum(),2)\n",
    "\n",
    "Normalized_total_age4=round(Total_Purchase_4/total_age4_player_count,2)\n",
    "\n",
    "\n",
    "# age between 25 to 30\n",
    "\n",
    "\n",
    "Avg_price_5=round(Age_5[\"Price\"].mean(),2)\n",
    "\n",
    "Total_Purchase_5=round(Age_5[\"Price\"].sum(),2)\n",
    "\n",
    "Normalized_total_age5=round(Total_Purchase_5/total_age5_player_count,2)\n",
    "\n",
    "\n",
    "# age between 30 to 35\n",
    "\n",
    "\n",
    "\n",
    "\n",
    "Avg_price_6=round(Age_6[\"Price\"].mean(),2)\n",
    "\n",
    "Total_Purchase_6=round(Age_6[\"Price\"].sum(),2)\n",
    "\n",
    "Normalized_total_age6=round(Total_Purchase_6/total_age6_player_count,2)\n",
    "\n",
    "# age between 35 to 40\n",
    "\n",
    "\n",
    "\n",
    "\n",
    "Avg_price_7=round(Age_7[\"Price\"].mean(),2)\n",
    "\n",
    "Total_Purchase_7=round(Age_7[\"Price\"].sum(),2)\n",
    "\n",
    "Normalized_total_age7=round(Total_Purchase_7/total_age7_player_count,2)\n",
    "\n",
    "# age above 40\n",
    "\n",
    "\n",
    "\n",
    "Avg_price_8=round(Age_8[\"Price\"].mean(),2)\n",
    "\n",
    "Total_Purchase_8=round(Age_8[\"Price\"].sum(),2)\n",
    "\n",
    "Normalized_total_age8=round(Total_Purchase_8/total_age8_player_count,2)\n",
    "\n",
    "\n",
    "Age_Demographics=pd.DataFrame({\"Purchase Count\":[total_age1_player_count,total_age2_player_count,total_age3_player_count,total_age4_player_count,total_age5_player_count,total_age6_player_count,total_age7_player_count,total_age8_player_count],\n",
    "                               \"Average Purchase\":[Avg_price_1,Avg_price_2,Avg_price_3,Avg_price_4,Avg_price_5,Avg_price_6,Avg_price_7,Avg_price_8],\n",
    "                               \"Total Purchase\":[Total_Purchase_1,Total_Purchase_2,Total_Purchase_3,Total_Purchase_4,Total_Purchase_5,Total_Purchase_6,Total_Purchase_7,Total_Purchase_8],\n",
    "                               \"Normalized Totals\":[Normalized_total_age1,Normalized_total_age2,Normalized_total_age3,Normalized_total_age4,Normalized_total_age5,Normalized_total_age6,Normalized_total_age7,Normalized_total_age8]\n",
    "                                })\n",
    "\n",
    "Age_Demographics.rename(index={0:'<10',1:'10-14',2:'15-19',3:'20-24',4:'25-29',5:'30-34',6:'35-39',7:'40+'},inplace=True)\n",
    "\n",
    "\n",
    "Age_Demographics[\"Average Purchase\"]=Age_Demographics[\"Average Purchase\"].map('${:,.2f}'.format)\n",
    "Age_Demographics[\"Total Purchase\"]=Age_Demographics[\"Total Purchase\"].map('${:,.2f}'.format)\n",
    "Age_Demographics[\"Normalized Totals\"]=Age_Demographics[\"Normalized Totals\"].map('${:,.2f}'.format)\n",
    "\n",
    "Age_Demographics\n",
    "\n"
   ]
  },
  {
   "cell_type": "markdown",
   "metadata": {},
   "source": [
    "# **Top Spenders**\n",
    "\n",
    "* Identify the the top 5 spenders in the game by total purchase value, then list (in a table):\n",
    "  * SN\n",
    "  * Purchase Count\n",
    "  * Average Purchase Price\n",
    "  * Total Purchase Value"
   ]
  },
  {
   "cell_type": "code",
   "execution_count": null,
   "metadata": {},
   "outputs": [],
   "source": [
    "file_group_total=pd.DataFrame(file_read.groupby(\"SN\")[\"Price\"].sum())\n",
    "\n",
    "\n",
    "file_group_sorted=file_group_total.sort_values(\"Price\",ascending=False)\n",
    "\n",
    "file_group_max=file_group_sorted.iloc[0:5]\n",
    "\n",
    "file_group_index=pd.DataFrame(pd.Series(file_group_max.index))\n",
    "\n",
    "list_max=pd.merge(file_group_index,file_read,on=\"SN\")\n",
    "\n",
    "list_max_count=pd.DataFrame(pd.Series(list_max.groupby([\"SN\"])[\"Item ID\"].count()))\n",
    "\n",
    "list_max_Avg=pd.DataFrame(pd.Series(list_max.groupby([\"SN\"])[\"Price\"].mean()))\n",
    "\n",
    "list_max_Avg=list_max_Avg.round(2)\n",
    "\n",
    "list_max_total=pd.DataFrame(pd.Series(list_max.groupby([\"SN\"])[\"Price\"].sum()))\n",
    "\n",
    "spender=list_max_Avg.join(list_max_total,lsuffix=\" Avg\",rsuffix=\" Total\", how=\"outer\").join(list_max_count,how=\"outer\")\n",
    "\n",
    "spender.columns = ['Avg','Total','Count']\n",
    "\n",
    "spender=spender.sort_values(\"Count\",ascending=False)\n",
    "\n",
    "spender[\"Total\"]=spender[\"Total\"].map('${:,.2f}'.format)\n",
    "\n",
    "spender[\"Avg\"]=spender[\"Avg\"].map('${:,.2f}'.format)\n",
    "\n",
    "spender=spender.sort_values(\"Total\",ascending=False)\n",
    "spender"
   ]
  },
  {
   "cell_type": "markdown",
   "metadata": {},
   "source": [
    "# **Most Popular Items**\n",
    "\n",
    "* Identify the 5 most popular items by purchase count, then list (in a table):\n",
    "  * Item ID\n",
    "  * Item Name\n",
    "  * Purchase Count\n",
    "  * Item Price\n",
    "  * Total Purchase Value"
   ]
  },
  {
   "cell_type": "code",
   "execution_count": null,
   "metadata": {},
   "outputs": [],
   "source": [
    "file_group_popular=pd.DataFrame(file_read.groupby(\"Item ID\")[\"Price\"].count())\n",
    "\n",
    "file_popular_sorted=file_group_popular.sort_values(\"Price\",ascending=False)\n",
    "\n",
    "file_popular_max=file_popular_sorted.iloc[0:5]\n",
    "\n",
    "file_popular_index=pd.DataFrame(pd.Series(file_popular_max.index))\n",
    "\n",
    "list_popular=pd.merge(file_popular_index,file_read,on=\"Item ID\")\n",
    "\n",
    "popular_ct=pd.DataFrame(pd.Series(list_popular.groupby(\"Item ID\")[\"Price\"].count()))\n",
    "\n",
    "popular_Price=pd.DataFrame(pd.Series(list_popular.groupby(\"Item ID\")[\"Price\"].sum()))\n",
    "\n",
    "popular=popular_ct.join(popular_Price,lsuffix=\"Count\",rsuffix=\"Total\",how=\"outer\")\n",
    "\n",
    "files_import=file_read[[\"Item ID\",\"Item Name\",\"Price\"]]\n",
    "\n",
    "a=files_import.set_index(\"Item ID\")\n",
    "\n",
    "a=a.drop_duplicates(subset=None, keep='first', inplace=False)\n",
    "\n",
    "a\n",
    "\n",
    "list_pop=a.join(popular, how=\"inner\")\n",
    "\n",
    "list_pop=list_pop.rename(columns={\"PriceCount\":\"Count\",\"PriceTotal\":\"Total\"})\n",
    "\n",
    "list_pop[\"Price\"]=list_pop[\"Price\"].map('${:,.2f}'.format)\n",
    "\n",
    "list_pop[\"Total\"]=list_pop[\"Total\"].map('${:,.2f}'.format)\n",
    "\n",
    "list_pop=list_pop.sort_values(\"Count\",ascending=False)\n",
    "\n",
    "list_pop"
   ]
  },
  {
   "cell_type": "markdown",
   "metadata": {},
   "source": [
    "# **Most Profitable Items**\n",
    "\n",
    "* Identify the 5 most profitable items by total purchase value, then list (in a table):\n",
    "  * Item ID\n",
    "  * Item Name\n",
    "  * Purchase Count\n",
    "  * Item Price\n",
    "  * Total Purchase Value"
   ]
  },
  {
   "cell_type": "code",
   "execution_count": null,
   "metadata": {},
   "outputs": [],
   "source": [
    "file_purchase=pd.DataFrame(file_read.groupby(\"Item ID\")[\"Price\"].sum())\n",
    "file_purchase_sorted=file_purchase.sort_values(\"Price\",ascending=False)\n",
    "file_purchase_max=file_purchase_sorted.iloc[0:5]\n",
    "\n",
    "profit=file_group_popular.join(file_purchase_max,lsuffix=\"Count\",rsuffix=\"Total\",how=\"inner\").join(a,how=\"inner\")\n",
    "\n",
    "profit=profit.rename(columns={\"PriceCount\":\"Count\",\"PriceTotal\":\"Total\"})\n",
    "\n",
    "profit[\"Total\"]=profit[\"Total\"].map('${:,.2f}'.format)\n",
    "profit[\"Price\"]=profit[\"Price\"].map('${:,.2f}'.format)\n",
    "profit=profit.sort_values(\"Total\",ascending=False)\n",
    "profit"
   ]
  },
  {
   "cell_type": "code",
   "execution_count": null,
   "metadata": {
    "collapsed": true
   },
   "outputs": [],
   "source": []
  }
 ],
 "metadata": {
  "kernelspec": {
   "display_name": "Python 3",
   "language": "python",
   "name": "python3"
  },
  "language_info": {
   "codemirror_mode": {
    "name": "ipython",
    "version": 3
   },
   "file_extension": ".py",
   "mimetype": "text/x-python",
   "name": "python",
   "nbconvert_exporter": "python",
   "pygments_lexer": "ipython3",
   "version": "3.6.1"
  }
 },
 "nbformat": 4,
 "nbformat_minor": 2
}
